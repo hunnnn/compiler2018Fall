{
 "cells": [
  {
   "cell_type": "markdown",
   "metadata": {},
   "source": [
    "# 인터프리터와 컴파일러\n",
    "\n",
    "지금까지 알아본 프로그래밍 방식으로 정수의 사칙연산에서 나눗셈을 제외한 3칙 연산만 지원하는\n",
    "간단한 수식에 대한 인터프리터와 컴파일러를 만들어 볼 수 있다.\n",
    "\n",
    "실제 인터프리터나 컴파일러는 텍스트 문자열로 된 소스코드를 트리의 형태로 변환하는 문법분석(parsing)이 기본적으로 필요하지만 그것은 고학년에 프로그래밍 언어나 컴파일러 등을 다루는 전공과목 수업을 들을 경우 자세히 배울 수 있으므로 여기서는 이미 문법분석이 다 되어서 트리의 형태로 수식을 다룰 수 있다고 가정하자. 수식 타입을 이진트리와 마찬가지 방식으로 아래와 같은 데이타 타입으로 정의할 수 있다. 수식을 보통 영어로 expression이라고 하므로 그 앞글자를 따서 타입의 이름을 `Exp`로 붙였다."
   ]
  },
  {
   "cell_type": "code",
   "execution_count": 1,
   "metadata": {
    "collapsed": false
   },
   "outputs": [],
   "source": [
    "module Syntax where\n",
    "\n",
    "data Exp = Num Int        -- \"4\"      (Num 4)\n",
    "         | Plus Exp Exp   -- \"4 + 3\"  (Plus (Num 4) (Num 3))\n",
    "         | Minus Exp Exp  -- \"4 - 3\"  (Minus (Num 4) (Num 3))\n",
    "         | Times Exp Exp  -- \"4 * 3\"  (Times (Num 4) (Num 3))\n",
    "         deriving Show"
   ]
  },
  {
   "cell_type": "code",
   "execution_count": 2,
   "metadata": {
    "collapsed": false
   },
   "outputs": [
    {
     "data": {
      "text/plain": [
       "Plus (Num 3) (Minus (Num 5) (Num 2))"
      ]
     },
     "metadata": {},
     "output_type": "display_data"
    }
   ],
   "source": [
    "-- \"3 + (5 - 2)\"를 아래와 같이 나타낸다\n",
    "Plus (Num 3) (Minus (Num 5) (Num 2))"
   ]
  },
  {
   "cell_type": "code",
   "execution_count": 3,
   "metadata": {
    "collapsed": false
   },
   "outputs": [
    {
     "data": {
      "text/html": [
       "<style>/* Styles used for the Hoogle display in the pager */\n",
       ".hoogle-doc {\n",
       "display: block;\n",
       "padding-bottom: 1.3em;\n",
       "padding-left: 0.4em;\n",
       "}\n",
       ".hoogle-code {\n",
       "display: block;\n",
       "font-family: monospace;\n",
       "white-space: pre;\n",
       "}\n",
       ".hoogle-text {\n",
       "display: block;\n",
       "}\n",
       ".hoogle-name {\n",
       "color: green;\n",
       "font-weight: bold;\n",
       "}\n",
       ".hoogle-head {\n",
       "font-weight: bold;\n",
       "}\n",
       ".hoogle-sub {\n",
       "display: block;\n",
       "margin-left: 0.4em;\n",
       "}\n",
       ".hoogle-package {\n",
       "font-weight: bold;\n",
       "font-style: italic;\n",
       "}\n",
       ".hoogle-module {\n",
       "font-weight: bold;\n",
       "}\n",
       ".hoogle-class {\n",
       "font-weight: bold;\n",
       "}\n",
       ".get-type {\n",
       "color: green;\n",
       "font-weight: bold;\n",
       "font-family: monospace;\n",
       "display: block;\n",
       "white-space: pre-wrap;\n",
       "}\n",
       ".show-type {\n",
       "color: green;\n",
       "font-weight: bold;\n",
       "font-family: monospace;\n",
       "margin-left: 1em;\n",
       "}\n",
       ".mono {\n",
       "font-family: monospace;\n",
       "display: block;\n",
       "}\n",
       ".err-msg {\n",
       "color: red;\n",
       "font-style: italic;\n",
       "font-family: monospace;\n",
       "white-space: pre;\n",
       "display: block;\n",
       "}\n",
       "#unshowable {\n",
       "color: red;\n",
       "font-weight: bold;\n",
       "}\n",
       ".err-msg.in.collapse {\n",
       "padding-top: 0.7em;\n",
       "}\n",
       ".highlight-code {\n",
       "white-space: pre;\n",
       "font-family: monospace;\n",
       "}\n",
       ".suggestion-warning { \n",
       "font-weight: bold;\n",
       "color: rgb(200, 130, 0);\n",
       "}\n",
       ".suggestion-error { \n",
       "font-weight: bold;\n",
       "color: red;\n",
       "}\n",
       ".suggestion-name {\n",
       "font-weight: bold;\n",
       "}\n",
       "</style><span class='get-type'>Plus (Num 3) (Minus (Num 5) (Num 2)) :: Exp</span>"
      ],
      "text/plain": [
       "Plus (Num 3) (Minus (Num 5) (Num 2)) :: Exp"
      ]
     },
     "metadata": {},
     "output_type": "display_data"
    }
   ],
   "source": [
    ":type Plus (Num 3) (Minus (Num 5) (Num 2))"
   ]
  },
  {
   "cell_type": "markdown",
   "metadata": {},
   "source": [
    "# Lexer와 Parser 생성기\n",
    "\n",
    "Haskell에서 alex와 happy가 바로 C에서 lex와 yacc에 해당하는 프로그램 생성기다.\n",
    "숙련된 개발자가 터미널에서 작업한다면 Makefile 같은 걸 만들어 쓰겠지만\n",
    "우리는 그냥 노트북 인터페이스에서 `ghci` 특수 명령 또는 `System.Process` 모듈을 통해 외부 명령어를 프로세스를 호출해서 쓰기로 하자.\n",
    "\n",
    "우선 :으로 시작하는 `ghci` 명령어 중에 느낌표(!)는 외부 명령어를 실행할 수 있다. Docker에 설치된 리눅스의 유틸리티인 `which`를 사용해 다른 ghc 컴파일러나 다른 유틸리티가 어느 경로에 설치되어 있으며 알아볼 수 있으며 개략적인 사용법을 알아보기 위해 각각을 `--help` 옵션으로 호출해 볼 수도 있다."
   ]
  },
  {
   "cell_type": "code",
   "execution_count": 4,
   "metadata": {
    "collapsed": false
   },
   "outputs": [
    {
     "data": {
      "text/plain": [
       "/bin/sed\n",
       "/root/.stack/programs/x86_64-linux/ghc-7.10.2/bin/ghc\n",
       "/root/.stack/snapshots/x86_64-linux/nightly-2015-08-15/7.10.2/bin/alex\n",
       "/root/.stack/snapshots/x86_64-linux/nightly-2015-08-15/7.10.2/bin/happy"
      ]
     },
     "metadata": {},
     "output_type": "display_data"
    }
   ],
   "source": [
    ":! which sed ghc alex happy"
   ]
  },
  {
   "cell_type": "code",
   "execution_count": 5,
   "metadata": {
    "collapsed": false
   },
   "outputs": [
    {
     "data": {
      "text/plain": [
       "/bin/sed\n",
       "/root/.stack/programs/x86_64-linux/ghc-7.10.2/bin/ghc\n",
       "/root/.stack/snapshots/x86_64-linux/nightly-2015-08-15/7.10.2/bin/alex\n",
       "/root/.stack/snapshots/x86_64-linux/nightly-2015-08-15/7.10.2/bin/happy"
      ]
     },
     "metadata": {},
     "output_type": "display_data"
    }
   ],
   "source": [
    "import System.Process\n",
    "\n",
    "callProcess \"which\" [\"sed\",\"ghc\",\"alex\",\"happy\"]"
   ]
  },
  {
   "cell_type": "code",
   "execution_count": 6,
   "metadata": {
    "collapsed": false
   },
   "outputs": [
    {
     "data": {
      "text/plain": [
       "Usage: alex [OPTION...] file\n",
       "\n",
       "  -o FILE   --outfile=FILE  write the output to FILE (default: file.hs)\n",
       "  -i[FILE]  --info[=FILE]   put detailed state-machine info in FILE (or file.info)\n",
       "  -t DIR    --template=DIR  look in DIR for template files\n",
       "  -g        --ghc           use GHC extensions\n",
       "  -l        --latin1        generated lexer will use the Latin-1 encoding instead of UTF-8\n",
       "  -d        --debug         produce a debugging scanner\n",
       "  -?        --help          display this help and exit\n",
       "  -V, -v    --version       output version information and exit"
      ]
     },
     "metadata": {},
     "output_type": "display_data"
    }
   ],
   "source": [
    ":! alex --help"
   ]
  },
  {
   "cell_type": "code",
   "execution_count": 7,
   "metadata": {
    "collapsed": false
   },
   "outputs": [
    {
     "data": {
      "text/plain": [
       "Usage: happy [OPTION...] file\n",
       "\n",
       "  -o FILE   --outfile=FILE     write the output to FILE (default: file.hs)\n",
       "  -i[FILE]  --info[=FILE]      put detailed grammar info in FILE\n",
       "  -t DIR    --template=DIR     look in DIR for template files\n",
       "  -m NAME   --magic-name=NAME  use NAME as the symbol prefix instead of \"happy\"\n",
       "  -s        --strict           evaluate semantic values strictly (experimental)\n",
       "  -g        --ghc              use GHC extensions\n",
       "  -c        --coerce           use type coercions (only available with -g)\n",
       "  -a        --array            generate an array-based parser\n",
       "  -d        --debug            produce a debugging parser (only with -a)\n",
       "  -l        --glr              Generate a GLR parser for ambiguous grammars\n",
       "  -k        --decode           Generate simple decoding code for GLR result\n",
       "  -f        --filter           Filter the GLR parse forest with respect to semantic usage\n",
       "  -?        --help             display this help and exit\n",
       "  -V, -v    --version          output version information and exit"
      ]
     },
     "metadata": {},
     "output_type": "display_data"
    }
   ],
   "source": [
    "callProcess \"happy\" [\"--help\"]"
   ]
  },
  {
   "cell_type": "code",
   "execution_count": 8,
   "metadata": {
    "collapsed": false
   },
   "outputs": [],
   "source": [
    "module Token where\n",
    "\n",
    "data Token\n",
    "  = Int Int\n",
    "  | Bop Char  -- +. -, *, /\n",
    "  | LParen    -- (\n",
    "  | RParen    -- )\n",
    "  deriving (Eq,Show)"
   ]
  },
  {
   "cell_type": "code",
   "execution_count": 9,
   "metadata": {
    "collapsed": false
   },
   "outputs": [
    {
     "data": {
      "text/plain": [
       "InterpreterAndCompiler.ipynb\n",
       "Lexer.hi\n",
       "Lexer.hs\n",
       "Lexer.hspp\n",
       "Lexer.o\n",
       "Lexer.x\n",
       "Parser.hi\n",
       "Parser.hs\n",
       "Parser.hspp\n",
       "Parser.o\n",
       "Parser.y\n",
       "Syntax.hi\n",
       "Syntax.hs\n",
       "Syntax.o\n",
       "Token.hi\n",
       "Token.hs\n",
       "Token.o"
      ]
     },
     "metadata": {},
     "output_type": "display_data"
    }
   ],
   "source": [
    ":! ls"
   ]
  },
  {
   "cell_type": "code",
   "execution_count": 10,
   "metadata": {
    "collapsed": false
   },
   "outputs": [
    {
     "data": {
      "text/plain": []
     },
     "metadata": {},
     "output_type": "display_data"
    }
   ],
   "source": [
    "callProcess \"alex\" [\"Lexer.x\"]\n",
    "callProcess \"ghc\" [\"-E\", \"Lexer.hs\"]\n",
    "writeFile \"Lexer.hs\" =<< readProcess \"sed\" [\"/^#/d;/^{-#.*#-}$/d;/^$/d\",\"Lexer.hspp\"] \"\"\n",
    ":! ghc -Wnot -c Lexer.hs\n",
    "{- 여기까지 잘 진행되었으면 Lexer.hs 내용을 아래 칸에 드래그 앤 드롭으로 떨군다.\n",
    "   Lexer.x 를 다시 수정해서 생성할 때는 아래 칸의 내용을 지우고 다시 떨구며 됨. -}"
   ]
  },
  {
   "cell_type": "code",
   "execution_count": 11,
   "metadata": {
    "collapsed": false
   },
   "outputs": [
    {
     "data": {
      "text/html": [
       "<style>/* Styles used for the Hoogle display in the pager */\n",
       ".hoogle-doc {\n",
       "display: block;\n",
       "padding-bottom: 1.3em;\n",
       "padding-left: 0.4em;\n",
       "}\n",
       ".hoogle-code {\n",
       "display: block;\n",
       "font-family: monospace;\n",
       "white-space: pre;\n",
       "}\n",
       ".hoogle-text {\n",
       "display: block;\n",
       "}\n",
       ".hoogle-name {\n",
       "color: green;\n",
       "font-weight: bold;\n",
       "}\n",
       ".hoogle-head {\n",
       "font-weight: bold;\n",
       "}\n",
       ".hoogle-sub {\n",
       "display: block;\n",
       "margin-left: 0.4em;\n",
       "}\n",
       ".hoogle-package {\n",
       "font-weight: bold;\n",
       "font-style: italic;\n",
       "}\n",
       ".hoogle-module {\n",
       "font-weight: bold;\n",
       "}\n",
       ".hoogle-class {\n",
       "font-weight: bold;\n",
       "}\n",
       ".get-type {\n",
       "color: green;\n",
       "font-weight: bold;\n",
       "font-family: monospace;\n",
       "display: block;\n",
       "white-space: pre-wrap;\n",
       "}\n",
       ".show-type {\n",
       "color: green;\n",
       "font-weight: bold;\n",
       "font-family: monospace;\n",
       "margin-left: 1em;\n",
       "}\n",
       ".mono {\n",
       "font-family: monospace;\n",
       "display: block;\n",
       "}\n",
       ".err-msg {\n",
       "color: red;\n",
       "font-style: italic;\n",
       "font-family: monospace;\n",
       "white-space: pre;\n",
       "display: block;\n",
       "}\n",
       "#unshowable {\n",
       "color: red;\n",
       "font-weight: bold;\n",
       "}\n",
       ".err-msg.in.collapse {\n",
       "padding-top: 0.7em;\n",
       "}\n",
       ".highlight-code {\n",
       "white-space: pre;\n",
       "font-family: monospace;\n",
       "}\n",
       ".suggestion-warning { \n",
       "font-weight: bold;\n",
       "color: rgb(200, 130, 0);\n",
       "}\n",
       ".suggestion-error { \n",
       "font-weight: bold;\n",
       "color: red;\n",
       "}\n",
       ".suggestion-name {\n",
       "font-weight: bold;\n",
       "}\n",
       "</style><div class=\"suggestion-name\" style=\"clear:both;\">Redundant bracket</div><div class=\"suggestion-row\" style=\"float: left;\"><div class=\"suggestion-warning\">Found:</div><div class=\"highlight-code\" id=\"haskell\">(c, (b : bs), s)</div></div><div class=\"suggestion-row\" style=\"float: left;\"><div class=\"suggestion-warning\">Why Not:</div><div class=\"highlight-code\" id=\"haskell\">(c, b : bs, s)</div></div><div class=\"suggestion-name\" style=\"clear:both;\">Redundant bracket</div><div class=\"suggestion-row\" style=\"float: left;\"><div class=\"suggestion-warning\">Found:</div><div class=\"highlight-code\" id=\"haskell\">(_, [], (c : s))</div></div><div class=\"suggestion-row\" style=\"float: left;\"><div class=\"suggestion-warning\">Why Not:</div><div class=\"highlight-code\" id=\"haskell\">(_, [], c : s)</div></div><div class=\"suggestion-name\" style=\"clear:both;\">Use camelCase</div><div class=\"suggestion-row\" style=\"float: left;\"><div class=\"suggestion-warning\">Found:</div><div class=\"highlight-code\" id=\"haskell\">alex_base = ...</div></div><div class=\"suggestion-row\" style=\"float: left;\"><div class=\"suggestion-warning\">Why Not:</div><div class=\"highlight-code\" id=\"haskell\">alexBase = ...</div></div><div class=\"suggestion-name\" style=\"clear:both;\">Use camelCase</div><div class=\"suggestion-row\" style=\"float: left;\"><div class=\"suggestion-warning\">Found:</div><div class=\"highlight-code\" id=\"haskell\">alex_table = ...</div></div><div class=\"suggestion-row\" style=\"float: left;\"><div class=\"suggestion-warning\">Why Not:</div><div class=\"highlight-code\" id=\"haskell\">alexTable = ...</div></div><div class=\"suggestion-name\" style=\"clear:both;\">Use camelCase</div><div class=\"suggestion-row\" style=\"float: left;\"><div class=\"suggestion-warning\">Found:</div><div class=\"highlight-code\" id=\"haskell\">alex_check = ...</div></div><div class=\"suggestion-row\" style=\"float: left;\"><div class=\"suggestion-warning\">Why Not:</div><div class=\"highlight-code\" id=\"haskell\">alexCheck = ...</div></div><div class=\"suggestion-name\" style=\"clear:both;\">Use camelCase</div><div class=\"suggestion-row\" style=\"float: left;\"><div class=\"suggestion-warning\">Found:</div><div class=\"highlight-code\" id=\"haskell\">alex_deflt = ...</div></div><div class=\"suggestion-row\" style=\"float: left;\"><div class=\"suggestion-warning\">Why Not:</div><div class=\"highlight-code\" id=\"haskell\">alexDeflt = ...</div></div><div class=\"suggestion-name\" style=\"clear:both;\">Use camelCase</div><div class=\"suggestion-row\" style=\"float: left;\"><div class=\"suggestion-warning\">Found:</div><div class=\"highlight-code\" id=\"haskell\">alex_accept = ...</div></div><div class=\"suggestion-row\" style=\"float: left;\"><div class=\"suggestion-warning\">Why Not:</div><div class=\"highlight-code\" id=\"haskell\">alexAccept = ...</div></div><div class=\"suggestion-name\" style=\"clear:both;\">Redundant bracket</div><div class=\"suggestion-row\" style=\"float: left;\"><div class=\"suggestion-error\">Found:</div><div class=\"highlight-code\" id=\"haskell\">(alex_action_1)</div></div><div class=\"suggestion-row\" style=\"float: left;\"><div class=\"suggestion-error\">Why Not:</div><div class=\"highlight-code\" id=\"haskell\">alex_action_1</div></div><div class=\"suggestion-name\" style=\"clear:both;\">Redundant bracket</div><div class=\"suggestion-row\" style=\"float: left;\"><div class=\"suggestion-error\">Found:</div><div class=\"highlight-code\" id=\"haskell\">(alex_action_2)</div></div><div class=\"suggestion-row\" style=\"float: left;\"><div class=\"suggestion-error\">Why Not:</div><div class=\"highlight-code\" id=\"haskell\">alex_action_2</div></div><div class=\"suggestion-name\" style=\"clear:both;\">Redundant bracket</div><div class=\"suggestion-row\" style=\"float: left;\"><div class=\"suggestion-error\">Found:</div><div class=\"highlight-code\" id=\"haskell\">(alex_action_3)</div></div><div class=\"suggestion-row\" style=\"float: left;\"><div class=\"suggestion-error\">Why Not:</div><div class=\"highlight-code\" id=\"haskell\">alex_action_3</div></div><div class=\"suggestion-name\" style=\"clear:both;\">Redundant bracket</div><div class=\"suggestion-row\" style=\"float: left;\"><div class=\"suggestion-error\">Found:</div><div class=\"highlight-code\" id=\"haskell\">(alex_action_4)</div></div><div class=\"suggestion-row\" style=\"float: left;\"><div class=\"suggestion-error\">Why Not:</div><div class=\"highlight-code\" id=\"haskell\">alex_action_4</div></div><div class=\"suggestion-name\" style=\"clear:both;\">Redundant lambda</div><div class=\"suggestion-row\" style=\"float: left;\"><div class=\"suggestion-error\">Found:</div><div class=\"highlight-code\" id=\"haskell\">alex_action_1 = \\ _ -> LParen</div></div><div class=\"suggestion-row\" style=\"float: left;\"><div class=\"suggestion-error\">Why Not:</div><div class=\"highlight-code\" id=\"haskell\">alex_action_1 _ = LParen</div></div><div class=\"suggestion-name\" style=\"clear:both;\">Use const</div><div class=\"suggestion-row\" style=\"float: left;\"><div class=\"suggestion-warning\">Found:</div><div class=\"highlight-code\" id=\"haskell\">\\ _ -> LParen</div></div><div class=\"suggestion-row\" style=\"float: left;\"><div class=\"suggestion-warning\">Why Not:</div><div class=\"highlight-code\" id=\"haskell\">const LParen</div></div><div class=\"suggestion-name\" style=\"clear:both;\">Redundant lambda</div><div class=\"suggestion-row\" style=\"float: left;\"><div class=\"suggestion-error\">Found:</div><div class=\"highlight-code\" id=\"haskell\">alex_action_2 = \\ _ -> RParen</div></div><div class=\"suggestion-row\" style=\"float: left;\"><div class=\"suggestion-error\">Why Not:</div><div class=\"highlight-code\" id=\"haskell\">alex_action_2 _ = RParen</div></div><div class=\"suggestion-name\" style=\"clear:both;\">Use const</div><div class=\"suggestion-row\" style=\"float: left;\"><div class=\"suggestion-warning\">Found:</div><div class=\"highlight-code\" id=\"haskell\">\\ _ -> RParen</div></div><div class=\"suggestion-row\" style=\"float: left;\"><div class=\"suggestion-warning\">Why Not:</div><div class=\"highlight-code\" id=\"haskell\">const RParen</div></div><div class=\"suggestion-name\" style=\"clear:both;\">Redundant lambda</div><div class=\"suggestion-row\" style=\"float: left;\"><div class=\"suggestion-error\">Found:</div><div class=\"highlight-code\" id=\"haskell\">alex_action_3 = \\ (c : _) -> Bop c</div></div><div class=\"suggestion-row\" style=\"float: left;\"><div class=\"suggestion-error\">Why Not:</div><div class=\"highlight-code\" id=\"haskell\">alex_action_3 (c : _) = Bop c</div></div><div class=\"suggestion-name\" style=\"clear:both;\">Redundant lambda</div><div class=\"suggestion-row\" style=\"float: left;\"><div class=\"suggestion-error\">Found:</div><div class=\"highlight-code\" id=\"haskell\">alex_action_4 = \\ s -> Int (read s)</div></div><div class=\"suggestion-row\" style=\"float: left;\"><div class=\"suggestion-error\">Why Not:</div><div class=\"highlight-code\" id=\"haskell\">alex_action_4 s = Int (read s)</div></div><div class=\"suggestion-name\" style=\"clear:both;\">Avoid lambda</div><div class=\"suggestion-row\" style=\"float: left;\"><div class=\"suggestion-warning\">Found:</div><div class=\"highlight-code\" id=\"haskell\">\\ s -> Int (read s)</div></div><div class=\"suggestion-row\" style=\"float: left;\"><div class=\"suggestion-warning\">Why Not:</div><div class=\"highlight-code\" id=\"haskell\">Int . read</div></div><div class=\"suggestion-name\" style=\"clear:both;\">Redundant bracket</div><div class=\"suggestion-row\" style=\"float: left;\"><div class=\"suggestion-error\">Found:</div><div class=\"highlight-code\" id=\"haskell\">(sc)</div></div><div class=\"suggestion-row\" style=\"float: left;\"><div class=\"suggestion-error\">Why Not:</div><div class=\"highlight-code\" id=\"haskell\">sc</div></div><div class=\"suggestion-name\" style=\"clear:both;\">Redundant bracket</div><div class=\"suggestion-row\" style=\"float: left;\"><div class=\"suggestion-error\">Found:</div><div class=\"highlight-code\" id=\"haskell\">(0)</div></div><div class=\"suggestion-row\" style=\"float: left;\"><div class=\"suggestion-error\">Why Not:</div><div class=\"highlight-code\" id=\"haskell\">0</div></div><div class=\"suggestion-name\" style=\"clear:both;\">Use camelCase</div><div class=\"suggestion-row\" style=\"float: left;\"><div class=\"suggestion-warning\">Found:</div><div class=\"highlight-code\" id=\"haskell\">alex_scan_tkn user orig_input len input s last_acc = ...</div></div><div class=\"suggestion-row\" style=\"float: left;\"><div class=\"suggestion-warning\">Why Not:</div><div class=\"highlight-code\" id=\"haskell\">alexScanTkn user orig_input len input s last_acc = ...</div></div><div class=\"suggestion-name\" style=\"clear:both;\">Redundant bracket</div><div class=\"suggestion-row\" style=\"float: left;\"><div class=\"suggestion-warning\">Found:</div><div class=\"highlight-code\" id=\"haskell\">let new_acc = (check_accs (alex_accept `quickIndex` (s))) in\n",
       "  new_acc `seq`\n",
       "    case alexGetByte input of\n",
       "        Nothing -> (new_acc, input)\n",
       "        Just (c, new_input) -> case fromIntegral c of\n",
       "                                   (ord_c) -> let base = alexIndexInt32OffAddr alex_base s\n",
       "                                                  offset = (base + ord_c)\n",
       "                                                  check = alexIndexInt16OffAddr alex_check offset\n",
       "                                                  new_s\n",
       "                                                    = if (offset >= (0)) && (check == ord_c) then\n",
       "                                                        alexIndexInt16OffAddr alex_table offset else\n",
       "                                                        alexIndexInt16OffAddr alex_deflt s\n",
       "                                                in\n",
       "                                                case new_s of\n",
       "                                                    (-1) -> (new_acc, input)\n",
       "                                                    _ -> alex_scan_tkn user orig_input\n",
       "                                                           (if c < 128 || c >= 192 then (len + (1))\n",
       "                                                              else len)\n",
       "                                                           new_input\n",
       "                                                           new_s\n",
       "                                                           new_acc</div></div><div class=\"suggestion-row\" style=\"float: left;\"><div class=\"suggestion-warning\">Why Not:</div><div class=\"highlight-code\" id=\"haskell\">let new_acc = check_accs (alex_accept `quickIndex` (s)) in\n",
       "  new_acc `seq`\n",
       "    case alexGetByte input of\n",
       "        Nothing -> (new_acc, input)\n",
       "        Just (c, new_input) -> case fromIntegral c of\n",
       "                                   (ord_c) -> let base = alexIndexInt32OffAddr alex_base s\n",
       "                                                  offset = (base + ord_c)\n",
       "                                                  check = alexIndexInt16OffAddr alex_check offset\n",
       "                                                  new_s\n",
       "                                                    = if (offset >= (0)) && (check == ord_c) then\n",
       "                                                        alexIndexInt16OffAddr alex_table offset else\n",
       "                                                        alexIndexInt16OffAddr alex_deflt s\n",
       "                                                in\n",
       "                                                case new_s of\n",
       "                                                    (-1) -> (new_acc, input)\n",
       "                                                    _ -> alex_scan_tkn user orig_input\n",
       "                                                           (if c < 128 || c >= 192 then (len + (1))\n",
       "                                                              else len)\n",
       "                                                           new_input\n",
       "                                                           new_s\n",
       "                                                           new_acc</div></div><div class=\"suggestion-name\" style=\"clear:both;\">Redundant bracket</div><div class=\"suggestion-row\" style=\"float: left;\"><div class=\"suggestion-error\">Found:</div><div class=\"highlight-code\" id=\"haskell\">(s)</div></div><div class=\"suggestion-row\" style=\"float: left;\"><div class=\"suggestion-error\">Why Not:</div><div class=\"highlight-code\" id=\"haskell\">s</div></div><div class=\"suggestion-name\" style=\"clear:both;\">Redundant bracket</div><div class=\"suggestion-row\" style=\"float: left;\"><div class=\"suggestion-error\">Found:</div><div class=\"highlight-code\" id=\"haskell\">(0)</div></div><div class=\"suggestion-row\" style=\"float: left;\"><div class=\"suggestion-error\">Why Not:</div><div class=\"highlight-code\" id=\"haskell\">0</div></div><div class=\"suggestion-name\" style=\"clear:both;\">Redundant bracket</div><div class=\"suggestion-row\" style=\"float: left;\"><div class=\"suggestion-warning\">Found:</div><div class=\"highlight-code\" id=\"haskell\">if c < 128 || c >= 192 then (len + (1)) else len</div></div><div class=\"suggestion-row\" style=\"float: left;\"><div class=\"suggestion-warning\">Why Not:</div><div class=\"highlight-code\" id=\"haskell\">if c < 128 || c >= 192 then len + (1) else len</div></div><div class=\"suggestion-name\" style=\"clear:both;\">Redundant bracket</div><div class=\"suggestion-row\" style=\"float: left;\"><div class=\"suggestion-error\">Found:</div><div class=\"highlight-code\" id=\"haskell\">(1)</div></div><div class=\"suggestion-row\" style=\"float: left;\"><div class=\"suggestion-error\">Why Not:</div><div class=\"highlight-code\" id=\"haskell\">1</div></div><div class=\"suggestion-name\" style=\"clear:both;\">Redundant bracket</div><div class=\"suggestion-row\" style=\"float: left;\"><div class=\"suggestion-error\">Found:</div><div class=\"highlight-code\" id=\"haskell\">(len)</div></div><div class=\"suggestion-row\" style=\"float: left;\"><div class=\"suggestion-error\">Why Not:</div><div class=\"highlight-code\" id=\"haskell\">len</div></div><div class=\"suggestion-name\" style=\"clear:both;\">Redundant bracket</div><div class=\"suggestion-row\" style=\"float: left;\"><div class=\"suggestion-error\">Found:</div><div class=\"highlight-code\" id=\"haskell\">(len)</div></div><div class=\"suggestion-row\" style=\"float: left;\"><div class=\"suggestion-error\">Why Not:</div><div class=\"highlight-code\" id=\"haskell\">len</div></div><div class=\"suggestion-name\" style=\"clear:both;\">Redundant bracket</div><div class=\"suggestion-row\" style=\"float: left;\"><div class=\"suggestion-error\">Found:</div><div class=\"highlight-code\" id=\"haskell\">(len)</div></div><div class=\"suggestion-row\" style=\"float: left;\"><div class=\"suggestion-error\">Why Not:</div><div class=\"highlight-code\" id=\"haskell\">len</div></div><div class=\"suggestion-name\" style=\"clear:both;\">Redundant bracket</div><div class=\"suggestion-row\" style=\"float: left;\"><div class=\"suggestion-error\">Found:</div><div class=\"highlight-code\" id=\"haskell\">(len)</div></div><div class=\"suggestion-row\" style=\"float: left;\"><div class=\"suggestion-error\">Why Not:</div><div class=\"highlight-code\" id=\"haskell\">len</div></div><div class=\"suggestion-name\" style=\"clear:both;\">Redundant bracket</div><div class=\"suggestion-row\" style=\"float: left;\"><div class=\"suggestion-error\">Found:</div><div class=\"highlight-code\" id=\"haskell\">(len)</div></div><div class=\"suggestion-row\" style=\"float: left;\"><div class=\"suggestion-error\">Why Not:</div><div class=\"highlight-code\" id=\"haskell\">len</div></div><div class=\"suggestion-name\" style=\"clear:both;\">Redundant bracket</div><div class=\"suggestion-row\" style=\"float: left;\"><div class=\"suggestion-error\">Found:</div><div class=\"highlight-code\" id=\"haskell\">(len)</div></div><div class=\"suggestion-row\" style=\"float: left;\"><div class=\"suggestion-error\">Why Not:</div><div class=\"highlight-code\" id=\"haskell\">len</div></div><div class=\"suggestion-name\" style=\"clear:both;\">Redundant bracket</div><div class=\"suggestion-row\" style=\"float: left;\"><div class=\"suggestion-error\">Found:</div><div class=\"highlight-code\" id=\"haskell\">(0)</div></div><div class=\"suggestion-row\" style=\"float: left;\"><div class=\"suggestion-error\">Why Not:</div><div class=\"highlight-code\" id=\"haskell\">0</div></div>"
      ],
      "text/plain": [
       "Line 61: Redundant bracket\n",
       "Found:\n",
       "(c, (b : bs), s)\n",
       "Why not:\n",
       "(c, b : bs, s)Line 63: Redundant bracket\n",
       "Found:\n",
       "(_, [], (c : s))\n",
       "Why not:\n",
       "(_, [], c : s)Line 77: Use camelCase\n",
       "Found:\n",
       "alex_base = ...\n",
       "Why not:\n",
       "alexBase = ...Line 79: Use camelCase\n",
       "Found:\n",
       "alex_table = ...\n",
       "Why not:\n",
       "alexTable = ...Line 81: Use camelCase\n",
       "Found:\n",
       "alex_check = ...\n",
       "Why not:\n",
       "alexCheck = ...Line 83: Use camelCase\n",
       "Found:\n",
       "alex_deflt = ...\n",
       "Why not:\n",
       "alexDeflt = ...Line 84: Use camelCase\n",
       "Found:\n",
       "alex_accept = ...\n",
       "Why not:\n",
       "alexAccept = ...Line 84: Redundant bracket\n",
       "Found:\n",
       "(alex_action_1)\n",
       "Why not:\n",
       "alex_action_1Line 84: Redundant bracket\n",
       "Found:\n",
       "(alex_action_2)\n",
       "Why not:\n",
       "alex_action_2Line 84: Redundant bracket\n",
       "Found:\n",
       "(alex_action_3)\n",
       "Why not:\n",
       "alex_action_3Line 84: Redundant bracket\n",
       "Found:\n",
       "(alex_action_4)\n",
       "Why not:\n",
       "alex_action_4Line 86: Redundant lambda\n",
       "Found:\n",
       "alex_action_1 = \\ _ -> LParen\n",
       "Why not:\n",
       "alex_action_1 _ = LParenLine 86: Use const\n",
       "Found:\n",
       "\\ _ -> LParen\n",
       "Why not:\n",
       "const LParenLine 87: Redundant lambda\n",
       "Found:\n",
       "alex_action_2 = \\ _ -> RParen\n",
       "Why not:\n",
       "alex_action_2 _ = RParenLine 87: Use const\n",
       "Found:\n",
       "\\ _ -> RParen\n",
       "Why not:\n",
       "const RParenLine 88: Redundant lambda\n",
       "Found:\n",
       "alex_action_3 = \\ (c : _) -> Bop c\n",
       "Why not:\n",
       "alex_action_3 (c : _) = Bop cLine 89: Redundant lambda\n",
       "Found:\n",
       "alex_action_4 = \\ s -> Int (read s)\n",
       "Why not:\n",
       "alex_action_4 s = Int (read s)Line 89: Avoid lambda\n",
       "Found:\n",
       "\\ s -> Int (read s)\n",
       "Why not:\n",
       "Int . readLine 109: Redundant bracket\n",
       "Found:\n",
       "(sc)\n",
       "Why not:\n",
       "scLine 111: Redundant bracket\n",
       "Found:\n",
       "(0)\n",
       "Why not:\n",
       "0Line 124: Use camelCase\n",
       "Found:\n",
       "alex_scan_tkn user orig_input len input s last_acc = ...\n",
       "Why not:\n",
       "alexScanTkn user orig_input len input s last_acc = ...Line 126: Redundant bracket\n",
       "Found:\n",
       "let new_acc = (check_accs (alex_accept `quickIndex` (s))) in\n",
       "  new_acc `seq`\n",
       "    case alexGetByte input of\n",
       "        Nothing -> (new_acc, input)\n",
       "        Just (c, new_input) -> case fromIntegral c of\n",
       "                                   (ord_c) -> let base = alexIndexInt32OffAddr alex_base s\n",
       "                                                  offset = (base + ord_c)\n",
       "                                                  check = alexIndexInt16OffAddr alex_check offset\n",
       "                                                  new_s\n",
       "                                                    = if (offset >= (0)) && (check == ord_c) then\n",
       "                                                        alexIndexInt16OffAddr alex_table offset else\n",
       "                                                        alexIndexInt16OffAddr alex_deflt s\n",
       "                                                in\n",
       "                                                case new_s of\n",
       "                                                    (-1) -> (new_acc, input)\n",
       "                                                    _ -> alex_scan_tkn user orig_input\n",
       "                                                           (if c < 128 || c >= 192 then (len + (1))\n",
       "                                                              else len)\n",
       "                                                           new_input\n",
       "                                                           new_s\n",
       "                                                           new_acc\n",
       "Why not:\n",
       "let new_acc = check_accs (alex_accept `quickIndex` (s)) in\n",
       "  new_acc `seq`\n",
       "    case alexGetByte input of\n",
       "        Nothing -> (new_acc, input)\n",
       "        Just (c, new_input) -> case fromIntegral c of\n",
       "                                   (ord_c) -> let base = alexIndexInt32OffAddr alex_base s\n",
       "                                                  offset = (base + ord_c)\n",
       "                                                  check = alexIndexInt16OffAddr alex_check offset\n",
       "                                                  new_s\n",
       "                                                    = if (offset >= (0)) && (check == ord_c) then\n",
       "                                                        alexIndexInt16OffAddr alex_table offset else\n",
       "                                                        alexIndexInt16OffAddr alex_deflt s\n",
       "                                                in\n",
       "                                                case new_s of\n",
       "                                                    (-1) -> (new_acc, input)\n",
       "                                                    _ -> alex_scan_tkn user orig_input\n",
       "                                                           (if c < 128 || c >= 192 then (len + (1))\n",
       "                                                              else len)\n",
       "                                                           new_input\n",
       "                                                           new_s\n",
       "                                                           new_accLine 127: Redundant bracket\n",
       "Found:\n",
       "(s)\n",
       "Why not:\n",
       "sLine 139: Redundant bracket\n",
       "Found:\n",
       "(0)\n",
       "Why not:\n",
       "0Line 147: Redundant bracket\n",
       "Found:\n",
       "if c < 128 || c >= 192 then (len + (1)) else len\n",
       "Why not:\n",
       "if c < 128 || c >= 192 then len + (1) else lenLine 147: Redundant bracket\n",
       "Found:\n",
       "(1)\n",
       "Why not:\n",
       "1Line 153: Redundant bracket\n",
       "Found:\n",
       "(len)\n",
       "Why not:\n",
       "lenLine 154: Redundant bracket\n",
       "Found:\n",
       "(len)\n",
       "Why not:\n",
       "lenLine 156: Redundant bracket\n",
       "Found:\n",
       "(len)\n",
       "Why not:\n",
       "lenLine 157: Redundant bracket\n",
       "Found:\n",
       "(len)\n",
       "Why not:\n",
       "lenLine 161: Redundant bracket\n",
       "Found:\n",
       "(len)\n",
       "Why not:\n",
       "lenLine 162: Redundant bracket\n",
       "Found:\n",
       "(len)\n",
       "Why not:\n",
       "lenLine 191: Redundant bracket\n",
       "Found:\n",
       "(0)\n",
       "Why not:\n",
       "0"
      ]
     },
     "metadata": {},
     "output_type": "display_data"
    }
   ],
   "source": [
    "module Lexer (lexer) where\n",
    "import Token\n",
    "import Data.Array\n",
    "import Data.Char (ord)\n",
    "import Data.Array.Base (unsafeAt)\n",
    "-- -----------------------------------------------------------------------------\n",
    "-- Alex wrapper code.\n",
    "--\n",
    "-- This code is in the PUBLIC DOMAIN; you may copy it freely and use\n",
    "-- it for any purpose whatsoever.\n",
    "import Control.Applicative (Applicative (..))\n",
    "import Data.Word (Word8)\n",
    "import qualified Data.Bits\n",
    "-- | Encode a Haskell String to a list of Word8 values, in UTF8 format.\n",
    "utf8Encode :: Char -> [Word8]\n",
    "utf8Encode = map fromIntegral . go . ord\n",
    " where\n",
    "  go oc\n",
    "   | oc <= 0x7f       = [oc]\n",
    "   | oc <= 0x7ff      = [ 0xc0 + (oc `Data.Bits.shiftR` 6)\n",
    "                        , 0x80 + oc Data.Bits..&. 0x3f\n",
    "                        ]\n",
    "   | oc <= 0xffff     = [ 0xe0 + (oc `Data.Bits.shiftR` 12)\n",
    "                        , 0x80 + ((oc `Data.Bits.shiftR` 6) Data.Bits..&. 0x3f)\n",
    "                        , 0x80 + oc Data.Bits..&. 0x3f\n",
    "                        ]\n",
    "   | otherwise        = [ 0xf0 + (oc `Data.Bits.shiftR` 18)\n",
    "                        , 0x80 + ((oc `Data.Bits.shiftR` 12) Data.Bits..&. 0x3f)\n",
    "                        , 0x80 + ((oc `Data.Bits.shiftR` 6) Data.Bits..&. 0x3f)\n",
    "                        , 0x80 + oc Data.Bits..&. 0x3f\n",
    "                        ]\n",
    "type Byte = Word8\n",
    "-- -----------------------------------------------------------------------------\n",
    "-- The input type\n",
    "-- -----------------------------------------------------------------------------\n",
    "-- Token positions\n",
    "-- `Posn' records the location of a token in the input text.  It has three\n",
    "-- fields: the address (number of chacaters preceding the token), line number\n",
    "-- and column of a token within the file. `start_pos' gives the position of the\n",
    "-- start of the file and `eof_pos' a standard encoding for the end of file.\n",
    "-- `move_pos' calculates the new position after traversing a given character,\n",
    "-- assuming the usual eight character tab stops.\n",
    "-- -----------------------------------------------------------------------------\n",
    "-- Default monad\n",
    "-- -----------------------------------------------------------------------------\n",
    "-- Monad (with ByteString input)\n",
    "-- -----------------------------------------------------------------------------\n",
    "-- Basic wrapper\n",
    "type AlexInput = (Char,[Byte],String)\n",
    "alexInputPrevChar :: AlexInput -> Char\n",
    "alexInputPrevChar (c,_,_) = c\n",
    "-- alexScanTokens :: String -> [token]\n",
    "alexScanTokens str = go ('\\n',[],str)\n",
    "  where go inp@(_,_bs,s) =\n",
    "          case alexScan inp 0 of\n",
    "                AlexEOF -> []\n",
    "                AlexError _ -> error \"lexical error\"\n",
    "                AlexSkip  inp' len     -> go inp'\n",
    "                AlexToken inp' len act -> act (take len s) : go inp'\n",
    "alexGetByte :: AlexInput -> Maybe (Byte,AlexInput)\n",
    "alexGetByte (c,(b:bs),s) = Just (b,(c,bs,s))\n",
    "alexGetByte (c,[],[])    = Nothing\n",
    "alexGetByte (_,[],(c:s)) = case utf8Encode c of\n",
    "                             (b:bs) -> Just (b, (c, bs, s))\n",
    "                             [] -> Nothing\n",
    "-- -----------------------------------------------------------------------------\n",
    "-- Basic wrapper, ByteString version\n",
    "-- -----------------------------------------------------------------------------\n",
    "-- Posn wrapper\n",
    "-- Adds text positions to the basic model.\n",
    "-- -----------------------------------------------------------------------------\n",
    "-- Posn wrapper, ByteString version\n",
    "-- -----------------------------------------------------------------------------\n",
    "-- GScan wrapper\n",
    "-- For compatibility with previous versions of Alex, and because we can.\n",
    "alex_base :: Array Int Int\n",
    "alex_base = listArray (0,5) [-8,-3,0,0,0,-37]\n",
    "alex_table :: Array Int Int\n",
    "alex_table = listArray (0,252) [0,1,1,1,1,1,1,1,1,1,1,5,5,5,5,5,5,5,5,5,5,0,0,0,1,0,0,0,0,1,0,0,2,3,4,4,0,4,0,0,5,5,5,5,5,5,5,5,5,5,0,0,0,0,0,0,0,0,0,0,0,0,0,0,0,0,0,0,0,0,0,0,0,0,0,0,0,0,0,0,0,0,0,0,0,0,0,0,0,0,0,0,0,0,0,0,0,0,0,0,0,0,0,0,0,0,0,0,0,0,0,0,0,0,0,0,0,0,0,0,0,0,0,0,0,0,0,0,0,0,0,0,0,0,0,0,0,0,0,0,0,0,0,0,0,0,0,0,0,0,0,0,0,0,0,0,0,0,0,0,0,0,0,0,0,0,0,0,0,0,0,0,0,0,0,0,0,0,0,0,0,0,0,0,0,0,0,0,0,0,0,0,0,0,0,0,0,0,0,0,0,0,0,0,0,0,0,0,0,0,0,0,0,0,0,0,0,0,0,0,0,0,0,0,0,0,0,0,0,0,0,0,0,0,0,0,0,0,0,0,0,0,0,0,0,0,0,0,0,0,0,0,0]\n",
    "alex_check :: Array Int Int\n",
    "alex_check = listArray (0,252) [-1,9,10,11,12,13,9,10,11,12,13,48,49,50,51,52,53,54,55,56,57,-1,-1,-1,32,-1,-1,-1,-1,32,-1,-1,40,41,42,43,-1,45,-1,-1,48,49,50,51,52,53,54,55,56,57,-1,-1,-1,-1,-1,-1,-1,-1,-1,-1,-1,-1,-1,-1,-1,-1,-1,-1,-1,-1,-1,-1,-1,-1,-1,-1,-1,-1,-1,-1,-1,-1,-1,-1,-1,-1,-1,-1,-1,-1,-1,-1,-1,-1,-1,-1,-1,-1,-1,-1,-1,-1,-1,-1,-1,-1,-1,-1,-1,-1,-1,-1,-1,-1,-1,-1,-1,-1,-1,-1,-1,-1,-1,-1,-1,-1,-1,-1,-1,-1,-1,-1,-1,-1,-1,-1,-1,-1,-1,-1,-1,-1,-1,-1,-1,-1,-1,-1,-1,-1,-1,-1,-1,-1,-1,-1,-1,-1,-1,-1,-1,-1,-1,-1,-1,-1,-1,-1,-1,-1,-1,-1,-1,-1,-1,-1,-1,-1,-1,-1,-1,-1,-1,-1,-1,-1,-1,-1,-1,-1,-1,-1,-1,-1,-1,-1,-1,-1,-1,-1,-1,-1,-1,-1,-1,-1,-1,-1,-1,-1,-1,-1,-1,-1,-1,-1,-1,-1,-1,-1,-1,-1,-1,-1,-1,-1,-1,-1,-1,-1,-1,-1,-1,-1,-1,-1,-1,-1,-1,-1,-1,-1,-1,-1,-1,-1,-1,-1,-1,-1,-1,-1,-1]\n",
    "alex_deflt :: Array Int Int\n",
    "alex_deflt = listArray (0,5) [-1,-1,-1,-1,-1,-1]\n",
    "alex_accept = listArray (0::Int,5) [AlexAccNone,AlexAccSkip,AlexAcc (alex_action_1),AlexAcc (alex_action_2),AlexAcc (alex_action_3),AlexAcc (alex_action_4)]\n",
    "lexer = alexScanTokens\n",
    "alex_action_1 =  \\_     -> LParen \n",
    "alex_action_2 =  \\_     -> RParen \n",
    "alex_action_3 =  \\(c:_) -> Bop c \n",
    "alex_action_4 =  \\s     -> Int (read s) \n",
    "-- -----------------------------------------------------------------------------\n",
    "-- ALEX TEMPLATE\n",
    "--\n",
    "-- This code is in the PUBLIC DOMAIN; you may copy it freely and use\n",
    "-- it for any purpose whatsoever.\n",
    "-- -----------------------------------------------------------------------------\n",
    "-- INTERNALS and main scanner engine\n",
    "alexIndexInt16OffAddr arr off = arr ! off\n",
    "alexIndexInt32OffAddr arr off = arr ! off\n",
    "quickIndex arr i = arr ! i\n",
    "-- -----------------------------------------------------------------------------\n",
    "-- Main lexing routines\n",
    "data AlexReturn a\n",
    "  = AlexEOF\n",
    "  | AlexError  !AlexInput\n",
    "  | AlexSkip   !AlexInput !Int\n",
    "  | AlexToken  !AlexInput !Int a\n",
    "-- alexScan :: AlexInput -> StartCode -> AlexReturn a\n",
    "alexScan input (sc)\n",
    "  = alexScanUser undefined input (sc)\n",
    "alexScanUser user input (sc)\n",
    "  = case alex_scan_tkn user input (0) input sc AlexNone of\n",
    "\t(AlexNone, input') ->\n",
    "\t\tcase alexGetByte input of\n",
    "\t\t\tNothing -> \n",
    "\t\t\t\t   AlexEOF\n",
    "\t\t\tJust _ ->\n",
    "\t\t\t\t   AlexError input'\n",
    "\t(AlexLastSkip input'' len, _) ->\n",
    "\t\tAlexSkip input'' len\n",
    "\t(AlexLastAcc k input''' len, _) ->\n",
    "\t\tAlexToken input''' len k\n",
    "-- Push the input through the DFA, remembering the most recent accepting\n",
    "-- state it encountered.\n",
    "alex_scan_tkn user orig_input len input s last_acc =\n",
    "  input `seq` -- strict in the input\n",
    "  let \n",
    "\tnew_acc = (check_accs (alex_accept `quickIndex` (s)))\n",
    "  in\n",
    "  new_acc `seq`\n",
    "  case alexGetByte input of\n",
    "     Nothing -> (new_acc, input)\n",
    "     Just (c, new_input) -> \n",
    "      case fromIntegral c of { (ord_c) ->\n",
    "        let\n",
    "                base   = alexIndexInt32OffAddr alex_base s\n",
    "                offset = (base + ord_c)\n",
    "                check  = alexIndexInt16OffAddr alex_check offset\n",
    "\t\t\n",
    "                new_s = if (offset >= (0)) && (check == ord_c)\n",
    "\t\t\t  then alexIndexInt16OffAddr alex_table offset\n",
    "\t\t\t  else alexIndexInt16OffAddr alex_deflt s\n",
    "\tin\n",
    "        case new_s of\n",
    "\t    (-1) -> (new_acc, input)\n",
    "\t\t-- on an error, we want to keep the input *before* the\n",
    "\t\t-- character that failed, not after.\n",
    "    \t    _ -> alex_scan_tkn user orig_input (if c < 0x80 || c >= 0xC0 then (len + (1)) else len)\n",
    "                                                -- note that the length is increased ONLY if this is the 1st byte in a char encoding)\n",
    "\t\t\tnew_input new_s new_acc\n",
    "      }\n",
    "  where\n",
    "\tcheck_accs (AlexAccNone) = last_acc\n",
    "\tcheck_accs (AlexAcc a  ) = AlexLastAcc a input (len)\n",
    "\tcheck_accs (AlexAccSkip) = AlexLastSkip  input (len)\n",
    "\tcheck_accs (AlexAccPred a predx rest)\n",
    "\t   | predx user orig_input (len) input\n",
    "\t   = AlexLastAcc a input (len)\n",
    "\t   | otherwise\n",
    "\t   = check_accs rest\n",
    "\tcheck_accs (AlexAccSkipPred predx rest)\n",
    "\t   | predx user orig_input (len) input\n",
    "\t   = AlexLastSkip input (len)\n",
    "\t   | otherwise\n",
    "\t   = check_accs rest\n",
    "data AlexLastAcc a\n",
    "  = AlexNone\n",
    "  | AlexLastAcc a !AlexInput !Int\n",
    "  | AlexLastSkip  !AlexInput !Int\n",
    "instance Functor AlexLastAcc where\n",
    "    fmap f AlexNone = AlexNone\n",
    "    fmap f (AlexLastAcc x y z) = AlexLastAcc (f x) y z\n",
    "    fmap f (AlexLastSkip x y) = AlexLastSkip x y\n",
    "data AlexAcc a user\n",
    "  = AlexAccNone\n",
    "  | AlexAcc a\n",
    "  | AlexAccSkip\n",
    "  | AlexAccPred a   (AlexAccPred user) (AlexAcc a user)\n",
    "  | AlexAccSkipPred (AlexAccPred user) (AlexAcc a user)\n",
    "type AlexAccPred user = user -> AlexInput -> Int -> AlexInput -> Bool\n",
    "-- -----------------------------------------------------------------------------\n",
    "-- Predicates on a rule\n",
    "alexAndPred p1 p2 user in1 len in2\n",
    "  = p1 user in1 len in2 && p2 user in1 len in2\n",
    "--alexPrevCharIsPred :: Char -> AlexAccPred _ \n",
    "alexPrevCharIs c _ input _ _ = c == alexInputPrevChar input\n",
    "alexPrevCharMatches f _ input _ _ = f (alexInputPrevChar input)\n",
    "--alexPrevCharIsOneOfPred :: Array Char Bool -> AlexAccPred _ \n",
    "alexPrevCharIsOneOf arr _ input _ _ = arr ! alexInputPrevChar input\n",
    "--alexRightContext :: Int -> AlexAccPred _\n",
    "alexRightContext (sc) user _ _ input = \n",
    "     case alex_scan_tkn user input (0) input sc AlexNone of\n",
    "\t  (AlexNone, _) -> False\n",
    "\t  _ -> True\n",
    "\t-- TODO: there's no need to find the longest\n",
    "\t-- match when checking the right context, just\n",
    "\t-- the first match will do.\n",
    "-- used by wrappers\n",
    "iUnbox (i) = i\n",
    "\n",
    "\n",
    "\n"
   ]
  },
  {
   "cell_type": "code",
   "execution_count": 12,
   "metadata": {
    "collapsed": false
   },
   "outputs": [
    {
     "data": {
      "text/html": [
       "<style>/* Styles used for the Hoogle display in the pager */\n",
       ".hoogle-doc {\n",
       "display: block;\n",
       "padding-bottom: 1.3em;\n",
       "padding-left: 0.4em;\n",
       "}\n",
       ".hoogle-code {\n",
       "display: block;\n",
       "font-family: monospace;\n",
       "white-space: pre;\n",
       "}\n",
       ".hoogle-text {\n",
       "display: block;\n",
       "}\n",
       ".hoogle-name {\n",
       "color: green;\n",
       "font-weight: bold;\n",
       "}\n",
       ".hoogle-head {\n",
       "font-weight: bold;\n",
       "}\n",
       ".hoogle-sub {\n",
       "display: block;\n",
       "margin-left: 0.4em;\n",
       "}\n",
       ".hoogle-package {\n",
       "font-weight: bold;\n",
       "font-style: italic;\n",
       "}\n",
       ".hoogle-module {\n",
       "font-weight: bold;\n",
       "}\n",
       ".hoogle-class {\n",
       "font-weight: bold;\n",
       "}\n",
       ".get-type {\n",
       "color: green;\n",
       "font-weight: bold;\n",
       "font-family: monospace;\n",
       "display: block;\n",
       "white-space: pre-wrap;\n",
       "}\n",
       ".show-type {\n",
       "color: green;\n",
       "font-weight: bold;\n",
       "font-family: monospace;\n",
       "margin-left: 1em;\n",
       "}\n",
       ".mono {\n",
       "font-family: monospace;\n",
       "display: block;\n",
       "}\n",
       ".err-msg {\n",
       "color: red;\n",
       "font-style: italic;\n",
       "font-family: monospace;\n",
       "white-space: pre;\n",
       "display: block;\n",
       "}\n",
       "#unshowable {\n",
       "color: red;\n",
       "font-weight: bold;\n",
       "}\n",
       ".err-msg.in.collapse {\n",
       "padding-top: 0.7em;\n",
       "}\n",
       ".highlight-code {\n",
       "white-space: pre;\n",
       "font-family: monospace;\n",
       "}\n",
       ".suggestion-warning { \n",
       "font-weight: bold;\n",
       "color: rgb(200, 130, 0);\n",
       "}\n",
       ".suggestion-error { \n",
       "font-weight: bold;\n",
       "color: red;\n",
       "}\n",
       ".suggestion-name {\n",
       "font-weight: bold;\n",
       "}\n",
       "</style><span class='get-type'>lexer :: String -> [Token]</span>"
      ],
      "text/plain": [
       "lexer :: String -> [Token]"
      ]
     },
     "metadata": {},
     "output_type": "display_data"
    }
   ],
   "source": [
    ":t lexer"
   ]
  },
  {
   "cell_type": "code",
   "execution_count": 13,
   "metadata": {
    "collapsed": false
   },
   "outputs": [
    {
     "data": {
      "text/plain": [
       "[Int 4,Bop '*',Int 3,Bop '+',Int 5,Bop '-',Int 2]"
      ]
     },
     "metadata": {},
     "output_type": "display_data"
    }
   ],
   "source": [
    "lexer \" 4 * 3 + 5 - 2 \""
   ]
  },
  {
   "cell_type": "markdown",
   "metadata": {},
   "source": [
    "이번엔 happy로 parser를 생성할 차례다."
   ]
  },
  {
   "cell_type": "code",
   "execution_count": 14,
   "metadata": {
    "collapsed": false
   },
   "outputs": [
    {
     "data": {
      "text/plain": []
     },
     "metadata": {},
     "output_type": "display_data"
    }
   ],
   "source": [
    "callProcess \"happy\" [\"Parser.y\"]\n",
    "callProcess \"ghc\" [\"-E\", \"Parser.hs\"]\n",
    "writeFile \"Parser.hs\" =<< readProcess \"sed\" [\"/^#/d;/^{-#.*#-}$/d;/^$/d\",\"Parser.hspp\"] \"\"\n",
    ":! ghc -Wnot -c Parser.hs\n",
    "{- 여기까지 잘 진행되었으면 Parser.hs 내용을 아래 칸에 드래그 앤 드롭으로 떨군다.\n",
    "   Lexer.x 를 다시 수정해서 생성할 때는 아래 칸의 내용을 지우고 다시 떨구며 됨. -}"
   ]
  },
  {
   "cell_type": "code",
   "execution_count": 15,
   "metadata": {
    "collapsed": false
   },
   "outputs": [
    {
     "data": {
      "text/html": [
       "<style>/* Styles used for the Hoogle display in the pager */\n",
       ".hoogle-doc {\n",
       "display: block;\n",
       "padding-bottom: 1.3em;\n",
       "padding-left: 0.4em;\n",
       "}\n",
       ".hoogle-code {\n",
       "display: block;\n",
       "font-family: monospace;\n",
       "white-space: pre;\n",
       "}\n",
       ".hoogle-text {\n",
       "display: block;\n",
       "}\n",
       ".hoogle-name {\n",
       "color: green;\n",
       "font-weight: bold;\n",
       "}\n",
       ".hoogle-head {\n",
       "font-weight: bold;\n",
       "}\n",
       ".hoogle-sub {\n",
       "display: block;\n",
       "margin-left: 0.4em;\n",
       "}\n",
       ".hoogle-package {\n",
       "font-weight: bold;\n",
       "font-style: italic;\n",
       "}\n",
       ".hoogle-module {\n",
       "font-weight: bold;\n",
       "}\n",
       ".hoogle-class {\n",
       "font-weight: bold;\n",
       "}\n",
       ".get-type {\n",
       "color: green;\n",
       "font-weight: bold;\n",
       "font-family: monospace;\n",
       "display: block;\n",
       "white-space: pre-wrap;\n",
       "}\n",
       ".show-type {\n",
       "color: green;\n",
       "font-weight: bold;\n",
       "font-family: monospace;\n",
       "margin-left: 1em;\n",
       "}\n",
       ".mono {\n",
       "font-family: monospace;\n",
       "display: block;\n",
       "}\n",
       ".err-msg {\n",
       "color: red;\n",
       "font-style: italic;\n",
       "font-family: monospace;\n",
       "white-space: pre;\n",
       "display: block;\n",
       "}\n",
       "#unshowable {\n",
       "color: red;\n",
       "font-weight: bold;\n",
       "}\n",
       ".err-msg.in.collapse {\n",
       "padding-top: 0.7em;\n",
       "}\n",
       ".highlight-code {\n",
       "white-space: pre;\n",
       "font-family: monospace;\n",
       "}\n",
       ".suggestion-warning { \n",
       "font-weight: bold;\n",
       "color: rgb(200, 130, 0);\n",
       "}\n",
       ".suggestion-error { \n",
       "font-weight: bold;\n",
       "color: red;\n",
       "}\n",
       ".suggestion-name {\n",
       "font-weight: bold;\n",
       "}\n",
       "</style><div class=\"suggestion-name\" style=\"clear:both;\">Redundant bracket</div><div class=\"suggestion-row\" style=\"float: left;\"><div class=\"suggestion-error\">Found:</div><div class=\"highlight-code\" id=\"haskell\">(happy_var_2)</div></div><div class=\"suggestion-row\" style=\"float: left;\"><div class=\"suggestion-error\">Why Not:</div><div class=\"highlight-code\" id=\"haskell\">happy_var_2</div></div><div class=\"suggestion-name\" style=\"clear:both;\">Redundant bracket</div><div class=\"suggestion-row\" style=\"float: left;\"><div class=\"suggestion-warning\">Found:</div><div class=\"highlight-code\" id=\"haskell\">(return)</div></div><div class=\"suggestion-row\" style=\"float: left;\"><div class=\"suggestion-warning\">Why Not:</div><div class=\"highlight-code\" id=\"haskell\">return</div></div><div class=\"suggestion-name\" style=\"clear:both;\">Avoid lambda</div><div class=\"suggestion-row\" style=\"float: left;\"><div class=\"suggestion-warning\">Found:</div><div class=\"highlight-code\" id=\"haskell\">\\ a -> k a tks</div></div><div class=\"suggestion-row\" style=\"float: left;\"><div class=\"suggestion-warning\">Why Not:</div><div class=\"highlight-code\" id=\"haskell\">(`k` tks)</div></div><div class=\"suggestion-name\" style=\"clear:both;\">Redundant lambda</div><div class=\"suggestion-row\" style=\"float: left;\"><div class=\"suggestion-error\">Found:</div><div class=\"highlight-code\" id=\"haskell\">happyReturn1 = \\ a tks -> (return) a</div></div><div class=\"suggestion-row\" style=\"float: left;\"><div class=\"suggestion-error\">Why Not:</div><div class=\"highlight-code\" id=\"haskell\">happyReturn1 a tks = (return) a</div></div><div class=\"suggestion-name\" style=\"clear:both;\">Redundant bracket</div><div class=\"suggestion-row\" style=\"float: left;\"><div class=\"suggestion-error\">Found:</div><div class=\"highlight-code\" id=\"haskell\">(return)</div></div><div class=\"suggestion-row\" style=\"float: left;\"><div class=\"suggestion-error\">Why Not:</div><div class=\"highlight-code\" id=\"haskell\">return</div></div><div class=\"suggestion-name\" style=\"clear:both;\">Redundant bracket</div><div class=\"suggestion-row\" style=\"float: left;\"><div class=\"suggestion-error\">Found:</div><div class=\"highlight-code\" id=\"haskell\">(Token)</div></div><div class=\"suggestion-row\" style=\"float: left;\"><div class=\"suggestion-error\">Why Not:</div><div class=\"highlight-code\" id=\"haskell\">Token</div></div><div class=\"suggestion-name\" style=\"clear:both;\">Redundant bracket</div><div class=\"suggestion-row\" style=\"float: left;\"><div class=\"suggestion-warning\">Found:</div><div class=\"highlight-code\" id=\"haskell\">(happyReturn1 ans)</div></div><div class=\"suggestion-row\" style=\"float: left;\"><div class=\"suggestion-warning\">Why Not:</div><div class=\"highlight-code\" id=\"haskell\">happyReturn1 ans</div></div><div class=\"suggestion-name\" style=\"clear:both;\">Redundant bracket</div><div class=\"suggestion-row\" style=\"float: left;\"><div class=\"suggestion-error\">Found:</div><div class=\"highlight-code\" id=\"haskell\">(i)</div></div><div class=\"suggestion-row\" style=\"float: left;\"><div class=\"suggestion-error\">Why Not:</div><div class=\"highlight-code\" id=\"haskell\">i</div></div><div class=\"suggestion-name\" style=\"clear:both;\">Redundant bracket</div><div class=\"suggestion-row\" style=\"float: left;\"><div class=\"suggestion-error\">Found:</div><div class=\"highlight-code\" id=\"haskell\">(new_state)</div></div><div class=\"suggestion-row\" style=\"float: left;\"><div class=\"suggestion-error\">Why Not:</div><div class=\"highlight-code\" id=\"haskell\">new_state</div></div><div class=\"suggestion-name\" style=\"clear:both;\">Redundant bracket</div><div class=\"suggestion-row\" style=\"float: left;\"><div class=\"suggestion-error\">Found:</div><div class=\"highlight-code\" id=\"haskell\">(st)</div></div><div class=\"suggestion-row\" style=\"float: left;\"><div class=\"suggestion-error\">Why Not:</div><div class=\"highlight-code\" id=\"haskell\">st</div></div><div class=\"suggestion-name\" style=\"clear:both;\">Redundant bracket</div><div class=\"suggestion-row\" style=\"float: left;\"><div class=\"suggestion-error\">Found:</div><div class=\"highlight-code\" id=\"haskell\">(sts)</div></div><div class=\"suggestion-row\" style=\"float: left;\"><div class=\"suggestion-error\">Why Not:</div><div class=\"highlight-code\" id=\"haskell\">sts</div></div><div class=\"suggestion-name\" style=\"clear:both;\">Redundant bracket</div><div class=\"suggestion-row\" style=\"float: left;\"><div class=\"suggestion-error\">Found:</div><div class=\"highlight-code\" id=\"haskell\">(stk)</div></div><div class=\"suggestion-row\" style=\"float: left;\"><div class=\"suggestion-error\">Why Not:</div><div class=\"highlight-code\" id=\"haskell\">stk</div></div><div class=\"suggestion-name\" style=\"clear:both;\">Redundant bracket</div><div class=\"suggestion-row\" style=\"float: left;\"><div class=\"suggestion-error\">Found:</div><div class=\"highlight-code\" id=\"haskell\">(st)</div></div><div class=\"suggestion-row\" style=\"float: left;\"><div class=\"suggestion-error\">Why Not:</div><div class=\"highlight-code\" id=\"haskell\">st</div></div><div class=\"suggestion-name\" style=\"clear:both;\">Redundant bracket</div><div class=\"suggestion-row\" style=\"float: left;\"><div class=\"suggestion-error\">Found:</div><div class=\"highlight-code\" id=\"haskell\">(sts)</div></div><div class=\"suggestion-row\" style=\"float: left;\"><div class=\"suggestion-error\">Why Not:</div><div class=\"highlight-code\" id=\"haskell\">sts</div></div><div class=\"suggestion-name\" style=\"clear:both;\">Redundant bracket</div><div class=\"suggestion-row\" style=\"float: left;\"><div class=\"suggestion-warning\">Found:</div><div class=\"highlight-code\" id=\"haskell\">(HappyTerminal (tk)) `HappyStk` stk</div></div><div class=\"suggestion-row\" style=\"float: left;\"><div class=\"suggestion-warning\">Why Not:</div><div class=\"highlight-code\" id=\"haskell\">HappyTerminal (tk) `HappyStk` stk</div></div><div class=\"suggestion-name\" style=\"clear:both;\">Redundant bracket</div><div class=\"suggestion-row\" style=\"float: left;\"><div class=\"suggestion-error\">Found:</div><div class=\"highlight-code\" id=\"haskell\">(tk)</div></div><div class=\"suggestion-row\" style=\"float: left;\"><div class=\"suggestion-error\">Why Not:</div><div class=\"highlight-code\" id=\"haskell\">tk</div></div><div class=\"suggestion-name\" style=\"clear:both;\">Redundant bracket</div><div class=\"suggestion-row\" style=\"float: left;\"><div class=\"suggestion-error\">Found:</div><div class=\"highlight-code\" id=\"haskell\">(1)</div></div><div class=\"suggestion-row\" style=\"float: left;\"><div class=\"suggestion-error\">Why Not:</div><div class=\"highlight-code\" id=\"haskell\">1</div></div><div class=\"suggestion-name\" style=\"clear:both;\">Redundant bracket</div><div class=\"suggestion-row\" style=\"float: left;\"><div class=\"suggestion-error\">Found:</div><div class=\"highlight-code\" id=\"haskell\">((HappyState (action)))</div></div><div class=\"suggestion-row\" style=\"float: left;\"><div class=\"suggestion-error\">Why Not:</div><div class=\"highlight-code\" id=\"haskell\">(HappyState (action))</div></div><div class=\"suggestion-name\" style=\"clear:both;\">Redundant bracket</div><div class=\"suggestion-row\" style=\"float: left;\"><div class=\"suggestion-error\">Found:</div><div class=\"highlight-code\" id=\"haskell\">(action)</div></div><div class=\"suggestion-row\" style=\"float: left;\"><div class=\"suggestion-error\">Why Not:</div><div class=\"highlight-code\" id=\"haskell\">action</div></div><div class=\"suggestion-name\" style=\"clear:both;\">Redundant bracket</div><div class=\"suggestion-row\" style=\"float: left;\"><div class=\"suggestion-error\">Found:</div><div class=\"highlight-code\" id=\"haskell\">(st)</div></div><div class=\"suggestion-row\" style=\"float: left;\"><div class=\"suggestion-error\">Why Not:</div><div class=\"highlight-code\" id=\"haskell\">st</div></div><div class=\"suggestion-name\" style=\"clear:both;\">Redundant bracket</div><div class=\"suggestion-row\" style=\"float: left;\"><div class=\"suggestion-error\">Found:</div><div class=\"highlight-code\" id=\"haskell\">(sts)</div></div><div class=\"suggestion-row\" style=\"float: left;\"><div class=\"suggestion-error\">Why Not:</div><div class=\"highlight-code\" id=\"haskell\">sts</div></div><div class=\"suggestion-name\" style=\"clear:both;\">Redundant bracket</div><div class=\"suggestion-row\" style=\"float: left;\"><div class=\"suggestion-error\">Found:</div><div class=\"highlight-code\" id=\"haskell\">(1)</div></div><div class=\"suggestion-row\" style=\"float: left;\"><div class=\"suggestion-error\">Why Not:</div><div class=\"highlight-code\" id=\"haskell\">1</div></div><div class=\"suggestion-name\" style=\"clear:both;\">Redundant bracket</div><div class=\"suggestion-row\" style=\"float: left;\"><div class=\"suggestion-error\">Found:</div><div class=\"highlight-code\" id=\"haskell\">(((st@(HappyState (action))) : (_)))</div></div><div class=\"suggestion-row\" style=\"float: left;\"><div class=\"suggestion-error\">Why Not:</div><div class=\"highlight-code\" id=\"haskell\">((st@(HappyState (action))) : (_))</div></div><div class=\"suggestion-name\" style=\"clear:both;\">Redundant bracket</div><div class=\"suggestion-row\" style=\"float: left;\"><div class=\"suggestion-error\">Found:</div><div class=\"highlight-code\" id=\"haskell\">(action)</div></div><div class=\"suggestion-row\" style=\"float: left;\"><div class=\"suggestion-error\">Why Not:</div><div class=\"highlight-code\" id=\"haskell\">action</div></div><div class=\"suggestion-name\" style=\"clear:both;\">Redundant bracket</div><div class=\"suggestion-row\" style=\"float: left;\"><div class=\"suggestion-error\">Found:</div><div class=\"highlight-code\" id=\"haskell\">(_)</div></div><div class=\"suggestion-row\" style=\"float: left;\"><div class=\"suggestion-error\">Why Not:</div><div class=\"highlight-code\" id=\"haskell\">_</div></div><div class=\"suggestion-name\" style=\"clear:both;\">Redundant bracket</div><div class=\"suggestion-row\" style=\"float: left;\"><div class=\"suggestion-error\">Found:</div><div class=\"highlight-code\" id=\"haskell\">(1)</div></div><div class=\"suggestion-row\" style=\"float: left;\"><div class=\"suggestion-error\">Why Not:</div><div class=\"highlight-code\" id=\"haskell\">1</div></div><div class=\"suggestion-name\" style=\"clear:both;\">Redundant bracket</div><div class=\"suggestion-row\" style=\"float: left;\"><div class=\"suggestion-error\">Found:</div><div class=\"highlight-code\" id=\"haskell\">(_)</div></div><div class=\"suggestion-row\" style=\"float: left;\"><div class=\"suggestion-error\">Why Not:</div><div class=\"highlight-code\" id=\"haskell\">_</div></div><div class=\"suggestion-name\" style=\"clear:both;\">Redundant bracket</div><div class=\"suggestion-row\" style=\"float: left;\"><div class=\"suggestion-error\">Found:</div><div class=\"highlight-code\" id=\"haskell\">(((st@(HappyState (action))) : (_)))</div></div><div class=\"suggestion-row\" style=\"float: left;\"><div class=\"suggestion-error\">Why Not:</div><div class=\"highlight-code\" id=\"haskell\">((st@(HappyState (action))) : (_))</div></div><div class=\"suggestion-name\" style=\"clear:both;\">Redundant bracket</div><div class=\"suggestion-row\" style=\"float: left;\"><div class=\"suggestion-error\">Found:</div><div class=\"highlight-code\" id=\"haskell\">(action)</div></div><div class=\"suggestion-row\" style=\"float: left;\"><div class=\"suggestion-error\">Why Not:</div><div class=\"highlight-code\" id=\"haskell\">action</div></div><div class=\"suggestion-name\" style=\"clear:both;\">Redundant bracket</div><div class=\"suggestion-row\" style=\"float: left;\"><div class=\"suggestion-error\">Found:</div><div class=\"highlight-code\" id=\"haskell\">(_)</div></div><div class=\"suggestion-row\" style=\"float: left;\"><div class=\"suggestion-error\">Why Not:</div><div class=\"highlight-code\" id=\"haskell\">_</div></div><div class=\"suggestion-name\" style=\"clear:both;\">Redundant bracket</div><div class=\"suggestion-row\" style=\"float: left;\"><div class=\"suggestion-error\">Found:</div><div class=\"highlight-code\" id=\"haskell\">(1)</div></div><div class=\"suggestion-row\" style=\"float: left;\"><div class=\"suggestion-error\">Why Not:</div><div class=\"highlight-code\" id=\"haskell\">1</div></div><div class=\"suggestion-name\" style=\"clear:both;\">Redundant bracket</div><div class=\"suggestion-row\" style=\"float: left;\"><div class=\"suggestion-error\">Found:</div><div class=\"highlight-code\" id=\"haskell\">(_)</div></div><div class=\"suggestion-row\" style=\"float: left;\"><div class=\"suggestion-error\">Why Not:</div><div class=\"highlight-code\" id=\"haskell\">_</div></div><div class=\"suggestion-name\" style=\"clear:both;\">Redundant bracket</div><div class=\"suggestion-row\" style=\"float: left;\"><div class=\"suggestion-error\">Found:</div><div class=\"highlight-code\" id=\"haskell\">(((_) : (sts@(((st@(HappyState (action))) : (_))))))</div></div><div class=\"suggestion-row\" style=\"float: left;\"><div class=\"suggestion-error\">Why Not:</div><div class=\"highlight-code\" id=\"haskell\">((_) : (sts@(((st@(HappyState (action))) : (_)))))</div></div><div class=\"suggestion-name\" style=\"clear:both;\">Redundant bracket</div><div class=\"suggestion-row\" style=\"float: left;\"><div class=\"suggestion-error\">Found:</div><div class=\"highlight-code\" id=\"haskell\">(_)</div></div><div class=\"suggestion-row\" style=\"float: left;\"><div class=\"suggestion-error\">Why Not:</div><div class=\"highlight-code\" id=\"haskell\">_</div></div><div class=\"suggestion-name\" style=\"clear:both;\">Redundant bracket</div><div class=\"suggestion-row\" style=\"float: left;\"><div class=\"suggestion-error\">Found:</div><div class=\"highlight-code\" id=\"haskell\">(((st@(HappyState (action))) : (_)))</div></div><div class=\"suggestion-row\" style=\"float: left;\"><div class=\"suggestion-error\">Why Not:</div><div class=\"highlight-code\" id=\"haskell\">((st@(HappyState (action))) : (_))</div></div><div class=\"suggestion-name\" style=\"clear:both;\">Redundant bracket</div><div class=\"suggestion-row\" style=\"float: left;\"><div class=\"suggestion-error\">Found:</div><div class=\"highlight-code\" id=\"haskell\">(action)</div></div><div class=\"suggestion-row\" style=\"float: left;\"><div class=\"suggestion-error\">Why Not:</div><div class=\"highlight-code\" id=\"haskell\">action</div></div><div class=\"suggestion-name\" style=\"clear:both;\">Redundant bracket</div><div class=\"suggestion-row\" style=\"float: left;\"><div class=\"suggestion-error\">Found:</div><div class=\"highlight-code\" id=\"haskell\">(_)</div></div><div class=\"suggestion-row\" style=\"float: left;\"><div class=\"suggestion-error\">Why Not:</div><div class=\"highlight-code\" id=\"haskell\">_</div></div><div class=\"suggestion-name\" style=\"clear:both;\">Redundant bracket</div><div class=\"suggestion-row\" style=\"float: left;\"><div class=\"suggestion-error\">Found:</div><div class=\"highlight-code\" id=\"haskell\">(1)</div></div><div class=\"suggestion-row\" style=\"float: left;\"><div class=\"suggestion-error\">Why Not:</div><div class=\"highlight-code\" id=\"haskell\">1</div></div><div class=\"suggestion-name\" style=\"clear:both;\">Redundant bracket</div><div class=\"suggestion-row\" style=\"float: left;\"><div class=\"suggestion-error\">Found:</div><div class=\"highlight-code\" id=\"haskell\">(1)</div></div><div class=\"suggestion-row\" style=\"float: left;\"><div class=\"suggestion-error\">Why Not:</div><div class=\"highlight-code\" id=\"haskell\">1</div></div><div class=\"suggestion-name\" style=\"clear:both;\">Redundant bracket</div><div class=\"suggestion-row\" style=\"float: left;\"><div class=\"suggestion-error\">Found:</div><div class=\"highlight-code\" id=\"haskell\">(((st1@(HappyState (action))) : (_)))</div></div><div class=\"suggestion-row\" style=\"float: left;\"><div class=\"suggestion-error\">Why Not:</div><div class=\"highlight-code\" id=\"haskell\">((st1@(HappyState (action))) : (_))</div></div><div class=\"suggestion-name\" style=\"clear:both;\">Redundant bracket</div><div class=\"suggestion-row\" style=\"float: left;\"><div class=\"suggestion-error\">Found:</div><div class=\"highlight-code\" id=\"haskell\">(action)</div></div><div class=\"suggestion-row\" style=\"float: left;\"><div class=\"suggestion-error\">Why Not:</div><div class=\"highlight-code\" id=\"haskell\">action</div></div><div class=\"suggestion-name\" style=\"clear:both;\">Redundant bracket</div><div class=\"suggestion-row\" style=\"float: left;\"><div class=\"suggestion-error\">Found:</div><div class=\"highlight-code\" id=\"haskell\">(_)</div></div><div class=\"suggestion-row\" style=\"float: left;\"><div class=\"suggestion-error\">Why Not:</div><div class=\"highlight-code\" id=\"haskell\">_</div></div><div class=\"suggestion-name\" style=\"clear:both;\">Redundant bracket</div><div class=\"suggestion-row\" style=\"float: left;\"><div class=\"suggestion-error\">Found:</div><div class=\"highlight-code\" id=\"haskell\">(1)</div></div><div class=\"suggestion-row\" style=\"float: left;\"><div class=\"suggestion-error\">Why Not:</div><div class=\"highlight-code\" id=\"haskell\">1</div></div><div class=\"suggestion-name\" style=\"clear:both;\">Redundant bracket</div><div class=\"suggestion-row\" style=\"float: left;\"><div class=\"suggestion-error\">Found:</div><div class=\"highlight-code\" id=\"haskell\">(st)</div></div><div class=\"suggestion-row\" style=\"float: left;\"><div class=\"suggestion-error\">Why Not:</div><div class=\"highlight-code\" id=\"haskell\">st</div></div><div class=\"suggestion-name\" style=\"clear:both;\">Redundant bracket</div><div class=\"suggestion-row\" style=\"float: left;\"><div class=\"suggestion-error\">Found:</div><div class=\"highlight-code\" id=\"haskell\">(sts)</div></div><div class=\"suggestion-row\" style=\"float: left;\"><div class=\"suggestion-error\">Why Not:</div><div class=\"highlight-code\" id=\"haskell\">sts</div></div><div class=\"suggestion-name\" style=\"clear:both;\">Redundant bracket</div><div class=\"suggestion-row\" style=\"float: left;\"><div class=\"suggestion-error\">Found:</div><div class=\"highlight-code\" id=\"haskell\">(((st1@(HappyState (action))) : (_)))</div></div><div class=\"suggestion-row\" style=\"float: left;\"><div class=\"suggestion-error\">Why Not:</div><div class=\"highlight-code\" id=\"haskell\">((st1@(HappyState (action))) : (_))</div></div><div class=\"suggestion-name\" style=\"clear:both;\">Redundant bracket</div><div class=\"suggestion-row\" style=\"float: left;\"><div class=\"suggestion-error\">Found:</div><div class=\"highlight-code\" id=\"haskell\">(action)</div></div><div class=\"suggestion-row\" style=\"float: left;\"><div class=\"suggestion-error\">Why Not:</div><div class=\"highlight-code\" id=\"haskell\">action</div></div><div class=\"suggestion-name\" style=\"clear:both;\">Redundant bracket</div><div class=\"suggestion-row\" style=\"float: left;\"><div class=\"suggestion-error\">Found:</div><div class=\"highlight-code\" id=\"haskell\">(_)</div></div><div class=\"suggestion-row\" style=\"float: left;\"><div class=\"suggestion-error\">Why Not:</div><div class=\"highlight-code\" id=\"haskell\">_</div></div><div class=\"suggestion-name\" style=\"clear:both;\">Redundant bracket</div><div class=\"suggestion-row\" style=\"float: left;\"><div class=\"suggestion-error\">Found:</div><div class=\"highlight-code\" id=\"haskell\">(1)</div></div><div class=\"suggestion-row\" style=\"float: left;\"><div class=\"suggestion-error\">Why Not:</div><div class=\"highlight-code\" id=\"haskell\">1</div></div><div class=\"suggestion-name\" style=\"clear:both;\">Redundant bracket</div><div class=\"suggestion-row\" style=\"float: left;\"><div class=\"suggestion-error\">Found:</div><div class=\"highlight-code\" id=\"haskell\">(st)</div></div><div class=\"suggestion-row\" style=\"float: left;\"><div class=\"suggestion-error\">Why Not:</div><div class=\"highlight-code\" id=\"haskell\">st</div></div><div class=\"suggestion-name\" style=\"clear:both;\">Redundant bracket</div><div class=\"suggestion-row\" style=\"float: left;\"><div class=\"suggestion-error\">Found:</div><div class=\"highlight-code\" id=\"haskell\">(sts)</div></div><div class=\"suggestion-row\" style=\"float: left;\"><div class=\"suggestion-error\">Why Not:</div><div class=\"highlight-code\" id=\"haskell\">sts</div></div><div class=\"suggestion-name\" style=\"clear:both;\">Redundant bracket</div><div class=\"suggestion-row\" style=\"float: left;\"><div class=\"suggestion-error\">Found:</div><div class=\"highlight-code\" id=\"haskell\">(((st1@(HappyState (action))) : (_)))</div></div><div class=\"suggestion-row\" style=\"float: left;\"><div class=\"suggestion-error\">Why Not:</div><div class=\"highlight-code\" id=\"haskell\">((st1@(HappyState (action))) : (_))</div></div><div class=\"suggestion-name\" style=\"clear:both;\">Redundant bracket</div><div class=\"suggestion-row\" style=\"float: left;\"><div class=\"suggestion-error\">Found:</div><div class=\"highlight-code\" id=\"haskell\">(action)</div></div><div class=\"suggestion-row\" style=\"float: left;\"><div class=\"suggestion-error\">Why Not:</div><div class=\"highlight-code\" id=\"haskell\">action</div></div><div class=\"suggestion-name\" style=\"clear:both;\">Redundant bracket</div><div class=\"suggestion-row\" style=\"float: left;\"><div class=\"suggestion-error\">Found:</div><div class=\"highlight-code\" id=\"haskell\">(_)</div></div><div class=\"suggestion-row\" style=\"float: left;\"><div class=\"suggestion-error\">Why Not:</div><div class=\"highlight-code\" id=\"haskell\">_</div></div><div class=\"suggestion-name\" style=\"clear:both;\">Redundant bracket</div><div class=\"suggestion-row\" style=\"float: left;\"><div class=\"suggestion-error\">Found:</div><div class=\"highlight-code\" id=\"haskell\">(_)</div></div><div class=\"suggestion-row\" style=\"float: left;\"><div class=\"suggestion-error\">Why Not:</div><div class=\"highlight-code\" id=\"haskell\">_</div></div><div class=\"suggestion-name\" style=\"clear:both;\">Redundant bracket</div><div class=\"suggestion-row\" style=\"float: left;\"><div class=\"suggestion-error\">Found:</div><div class=\"highlight-code\" id=\"haskell\">(t)</div></div><div class=\"suggestion-row\" style=\"float: left;\"><div class=\"suggestion-error\">Why Not:</div><div class=\"highlight-code\" id=\"haskell\">t</div></div><div class=\"suggestion-name\" style=\"clear:both;\">Redundant bracket</div><div class=\"suggestion-row\" style=\"float: left;\"><div class=\"suggestion-error\">Found:</div><div class=\"highlight-code\" id=\"haskell\">(1)</div></div><div class=\"suggestion-row\" style=\"float: left;\"><div class=\"suggestion-error\">Why Not:</div><div class=\"highlight-code\" id=\"haskell\">1</div></div><div class=\"suggestion-name\" style=\"clear:both;\">Redundant bracket</div><div class=\"suggestion-row\" style=\"float: left;\"><div class=\"suggestion-error\">Found:</div><div class=\"highlight-code\" id=\"haskell\">(1)</div></div><div class=\"suggestion-row\" style=\"float: left;\"><div class=\"suggestion-error\">Why Not:</div><div class=\"highlight-code\" id=\"haskell\">1</div></div><div class=\"suggestion-name\" style=\"clear:both;\">Redundant bracket</div><div class=\"suggestion-row\" style=\"float: left;\"><div class=\"suggestion-error\">Found:</div><div class=\"highlight-code\" id=\"haskell\">(i)</div></div><div class=\"suggestion-row\" style=\"float: left;\"><div class=\"suggestion-error\">Why Not:</div><div class=\"highlight-code\" id=\"haskell\">i</div></div><div class=\"suggestion-name\" style=\"clear:both;\">Redundant bracket</div><div class=\"suggestion-row\" style=\"float: left;\"><div class=\"suggestion-error\">Found:</div><div class=\"highlight-code\" id=\"haskell\">(action)</div></div><div class=\"suggestion-row\" style=\"float: left;\"><div class=\"suggestion-error\">Why Not:</div><div class=\"highlight-code\" id=\"haskell\">action</div></div><div class=\"suggestion-name\" style=\"clear:both;\">Redundant bracket</div><div class=\"suggestion-row\" style=\"float: left;\"><div class=\"suggestion-error\">Found:</div><div class=\"highlight-code\" id=\"haskell\">(1)</div></div><div class=\"suggestion-row\" style=\"float: left;\"><div class=\"suggestion-error\">Why Not:</div><div class=\"highlight-code\" id=\"haskell\">1</div></div><div class=\"suggestion-name\" style=\"clear:both;\">Redundant bracket</div><div class=\"suggestion-row\" style=\"float: left;\"><div class=\"suggestion-error\">Found:</div><div class=\"highlight-code\" id=\"haskell\">(1)</div></div><div class=\"suggestion-row\" style=\"float: left;\"><div class=\"suggestion-error\">Why Not:</div><div class=\"highlight-code\" id=\"haskell\">1</div></div><div class=\"suggestion-name\" style=\"clear:both;\">Redundant bracket</div><div class=\"suggestion-row\" style=\"float: left;\"><div class=\"suggestion-error\">Found:</div><div class=\"highlight-code\" id=\"haskell\">(action)</div></div><div class=\"suggestion-row\" style=\"float: left;\"><div class=\"suggestion-error\">Why Not:</div><div class=\"highlight-code\" id=\"haskell\">action</div></div><div class=\"suggestion-name\" style=\"clear:both;\">Redundant bracket</div><div class=\"suggestion-row\" style=\"float: left;\"><div class=\"suggestion-warning\">Found:</div><div class=\"highlight-code\" id=\"haskell\">(HappyErrorToken (i)) `HappyStk` stk</div></div><div class=\"suggestion-row\" style=\"float: left;\"><div class=\"suggestion-warning\">Why Not:</div><div class=\"highlight-code\" id=\"haskell\">HappyErrorToken (i) `HappyStk` stk</div></div><div class=\"suggestion-name\" style=\"clear:both;\">Redundant bracket</div><div class=\"suggestion-row\" style=\"float: left;\"><div class=\"suggestion-error\">Found:</div><div class=\"highlight-code\" id=\"haskell\">(i)</div></div><div class=\"suggestion-row\" style=\"float: left;\"><div class=\"suggestion-error\">Why Not:</div><div class=\"highlight-code\" id=\"haskell\">i</div></div>"
      ],
      "text/plain": [
       "Line 86: Redundant bracket\n",
       "Found:\n",
       "(happy_var_2)\n",
       "Why not:\n",
       "happy_var_2Line 118: Redundant bracket\n",
       "Found:\n",
       "(return)\n",
       "Why not:\n",
       "returnLine 119: Avoid lambda\n",
       "Found:\n",
       "\\ a -> k a tks\n",
       "Why not:\n",
       "(`k` tks)Line 121: Redundant lambda\n",
       "Found:\n",
       "happyReturn1 = \\ a tks -> (return) a\n",
       "Why not:\n",
       "happyReturn1 a tks = (return) aLine 121: Redundant bracket\n",
       "Found:\n",
       "(return)\n",
       "Why not:\n",
       "returnLine 122: Redundant bracket\n",
       "Found:\n",
       "(Token)\n",
       "Why not:\n",
       "TokenLine 143: Redundant bracket\n",
       "Found:\n",
       "(happyReturn1 ans)\n",
       "Why not:\n",
       "happyReturn1 ansLine 158: Redundant bracket\n",
       "Found:\n",
       "(i)\n",
       "Why not:\n",
       "iLine 160: Redundant bracket\n",
       "Found:\n",
       "(new_state)\n",
       "Why not:\n",
       "new_stateLine 160: Redundant bracket\n",
       "Found:\n",
       "(st)\n",
       "Why not:\n",
       "stLine 160: Redundant bracket\n",
       "Found:\n",
       "(sts)\n",
       "Why not:\n",
       "stsLine 160: Redundant bracket\n",
       "Found:\n",
       "(stk)\n",
       "Why not:\n",
       "stkLine 162: Redundant bracket\n",
       "Found:\n",
       "(st)\n",
       "Why not:\n",
       "stLine 162: Redundant bracket\n",
       "Found:\n",
       "(sts)\n",
       "Why not:\n",
       "stsLine 162: Redundant bracket\n",
       "Found:\n",
       "(HappyTerminal (tk)) `HappyStk` stk\n",
       "Why not:\n",
       "HappyTerminal (tk) `HappyStk` stkLine 162: Redundant bracket\n",
       "Found:\n",
       "(tk)\n",
       "Why not:\n",
       "tkLine 165: Redundant bracket\n",
       "Found:\n",
       "(1)\n",
       "Why not:\n",
       "1Line 166: Redundant bracket\n",
       "Found:\n",
       "((HappyState (action)))\n",
       "Why not:\n",
       "(HappyState (action))Line 166: Redundant bracket\n",
       "Found:\n",
       "(action)\n",
       "Why not:\n",
       "actionLine 167: Redundant bracket\n",
       "Found:\n",
       "(st)\n",
       "Why not:\n",
       "stLine 167: Redundant bracket\n",
       "Found:\n",
       "(sts)\n",
       "Why not:\n",
       "stsLine 169: Redundant bracket\n",
       "Found:\n",
       "(1)\n",
       "Why not:\n",
       "1Line 170: Redundant bracket\n",
       "Found:\n",
       "(((st@(HappyState (action))) : (_)))\n",
       "Why not:\n",
       "((st@(HappyState (action))) : (_))Line 170: Redundant bracket\n",
       "Found:\n",
       "(action)\n",
       "Why not:\n",
       "actionLine 170: Redundant bracket\n",
       "Found:\n",
       "(_)\n",
       "Why not:\n",
       "_Line 174: Redundant bracket\n",
       "Found:\n",
       "(1)\n",
       "Why not:\n",
       "1Line 175: Redundant bracket\n",
       "Found:\n",
       "(_)\n",
       "Why not:\n",
       "_Line 175: Redundant bracket\n",
       "Found:\n",
       "(((st@(HappyState (action))) : (_)))\n",
       "Why not:\n",
       "((st@(HappyState (action))) : (_))Line 175: Redundant bracket\n",
       "Found:\n",
       "(action)\n",
       "Why not:\n",
       "actionLine 175: Redundant bracket\n",
       "Found:\n",
       "(_)\n",
       "Why not:\n",
       "_Line 179: Redundant bracket\n",
       "Found:\n",
       "(1)\n",
       "Why not:\n",
       "1Line 180: Redundant bracket\n",
       "Found:\n",
       "(_)\n",
       "Why not:\n",
       "_Line 180: Redundant bracket\n",
       "Found:\n",
       "(((_) : (sts@(((st@(HappyState (action))) : (_))))))\n",
       "Why not:\n",
       "((_) : (sts@(((st@(HappyState (action))) : (_)))))Line 180: Redundant bracket\n",
       "Found:\n",
       "(_)\n",
       "Why not:\n",
       "_Line 180: Redundant bracket\n",
       "Found:\n",
       "(((st@(HappyState (action))) : (_)))\n",
       "Why not:\n",
       "((st@(HappyState (action))) : (_))Line 180: Redundant bracket\n",
       "Found:\n",
       "(action)\n",
       "Why not:\n",
       "actionLine 180: Redundant bracket\n",
       "Found:\n",
       "(_)\n",
       "Why not:\n",
       "_Line 184: Redundant bracket\n",
       "Found:\n",
       "(1)\n",
       "Why not:\n",
       "1Line 186: Redundant bracket\n",
       "Found:\n",
       "(1)\n",
       "Why not:\n",
       "1Line 187: Redundant bracket\n",
       "Found:\n",
       "(((st1@(HappyState (action))) : (_)))\n",
       "Why not:\n",
       "((st1@(HappyState (action))) : (_))Line 187: Redundant bracket\n",
       "Found:\n",
       "(action)\n",
       "Why not:\n",
       "actionLine 187: Redundant bracket\n",
       "Found:\n",
       "(_)\n",
       "Why not:\n",
       "_Line 191: Redundant bracket\n",
       "Found:\n",
       "(1)\n",
       "Why not:\n",
       "1Line 193: Redundant bracket\n",
       "Found:\n",
       "(st)\n",
       "Why not:\n",
       "stLine 193: Redundant bracket\n",
       "Found:\n",
       "(sts)\n",
       "Why not:\n",
       "stsLine 194: Redundant bracket\n",
       "Found:\n",
       "(((st1@(HappyState (action))) : (_)))\n",
       "Why not:\n",
       "((st1@(HappyState (action))) : (_))Line 194: Redundant bracket\n",
       "Found:\n",
       "(action)\n",
       "Why not:\n",
       "actionLine 194: Redundant bracket\n",
       "Found:\n",
       "(_)\n",
       "Why not:\n",
       "_Line 198: Redundant bracket\n",
       "Found:\n",
       "(1)\n",
       "Why not:\n",
       "1Line 200: Redundant bracket\n",
       "Found:\n",
       "(st)\n",
       "Why not:\n",
       "stLine 200: Redundant bracket\n",
       "Found:\n",
       "(sts)\n",
       "Why not:\n",
       "stsLine 201: Redundant bracket\n",
       "Found:\n",
       "(((st1@(HappyState (action))) : (_)))\n",
       "Why not:\n",
       "((st1@(HappyState (action))) : (_))Line 201: Redundant bracket\n",
       "Found:\n",
       "(action)\n",
       "Why not:\n",
       "actionLine 201: Redundant bracket\n",
       "Found:\n",
       "(_)\n",
       "Why not:\n",
       "_Line 207: Redundant bracket\n",
       "Found:\n",
       "(_)\n",
       "Why not:\n",
       "_Line 207: Redundant bracket\n",
       "Found:\n",
       "(t)\n",
       "Why not:\n",
       "tLine 207: Redundant bracket\n",
       "Found:\n",
       "(1)\n",
       "Why not:\n",
       "1Line 209: Redundant bracket\n",
       "Found:\n",
       "(1)\n",
       "Why not:\n",
       "1Line 217: Redundant bracket\n",
       "Found:\n",
       "(i)\n",
       "Why not:\n",
       "iLine 231: Redundant bracket\n",
       "Found:\n",
       "(action)\n",
       "Why not:\n",
       "actionLine 233: Redundant bracket\n",
       "Found:\n",
       "(1)\n",
       "Why not:\n",
       "1Line 233: Redundant bracket\n",
       "Found:\n",
       "(1)\n",
       "Why not:\n",
       "1Line 233: Redundant bracket\n",
       "Found:\n",
       "(action)\n",
       "Why not:\n",
       "actionLine 233: Redundant bracket\n",
       "Found:\n",
       "(HappyErrorToken (i)) `HappyStk` stk\n",
       "Why not:\n",
       "HappyErrorToken (i) `HappyStk` stkLine 233: Redundant bracket\n",
       "Found:\n",
       "(i)\n",
       "Why not:\n",
       "i"
      ]
     },
     "metadata": {},
     "output_type": "display_data"
    }
   ],
   "source": [
    "\n",
    "module Parser where\n",
    "import Token\n",
    "import Lexer\n",
    "import Syntax\n",
    "import Control.Applicative(Applicative(..))\n",
    "import Control.Monad (ap)\n",
    "-- parser produced by Happy Version 1.19.5\n",
    "data HappyAbsSyn t4\n",
    "\t= HappyTerminal (Token)\n",
    "\t| HappyErrorToken Int\n",
    "\t| HappyAbsSyn4 t4\n",
    "action_0 (8) = happyShift action_4\n",
    "action_0 (10) = happyShift action_2\n",
    "action_0 (4) = happyGoto action_3\n",
    "action_0 _ = happyFail\n",
    "action_1 (10) = happyShift action_2\n",
    "action_1 _ = happyFail\n",
    "action_2 _ = happyReduce_1\n",
    "action_3 (5) = happyShift action_6\n",
    "action_3 (6) = happyShift action_7\n",
    "action_3 (7) = happyShift action_8\n",
    "action_3 (11) = happyAccept\n",
    "action_3 _ = happyFail\n",
    "action_4 (8) = happyShift action_4\n",
    "action_4 (10) = happyShift action_2\n",
    "action_4 (4) = happyGoto action_5\n",
    "action_4 _ = happyFail\n",
    "action_5 (5) = happyShift action_6\n",
    "action_5 (6) = happyShift action_7\n",
    "action_5 (7) = happyShift action_8\n",
    "action_5 (9) = happyShift action_12\n",
    "action_5 _ = happyFail\n",
    "action_6 (8) = happyShift action_4\n",
    "action_6 (10) = happyShift action_2\n",
    "action_6 (4) = happyGoto action_11\n",
    "action_6 _ = happyFail\n",
    "action_7 (8) = happyShift action_4\n",
    "action_7 (10) = happyShift action_2\n",
    "action_7 (4) = happyGoto action_10\n",
    "action_7 _ = happyFail\n",
    "action_8 (8) = happyShift action_4\n",
    "action_8 (10) = happyShift action_2\n",
    "action_8 (4) = happyGoto action_9\n",
    "action_8 _ = happyFail\n",
    "action_9 _ = happyReduce_4\n",
    "action_10 (7) = happyShift action_8\n",
    "action_10 _ = happyReduce_3\n",
    "action_11 (7) = happyShift action_8\n",
    "action_11 _ = happyReduce_2\n",
    "action_12 _ = happyReduce_5\n",
    "happyReduce_1 = happySpecReduce_1  4 happyReduction_1\n",
    "happyReduction_1 (HappyTerminal (Int happy_var_1))\n",
    "\t =  HappyAbsSyn4\n",
    "\t\t (Num happy_var_1\n",
    "\t)\n",
    "happyReduction_1 _  = notHappyAtAll \n",
    "happyReduce_2 = happySpecReduce_3  4 happyReduction_2\n",
    "happyReduction_2 (HappyAbsSyn4  happy_var_3)\n",
    "\t_\n",
    "\t(HappyAbsSyn4  happy_var_1)\n",
    "\t =  HappyAbsSyn4\n",
    "\t\t (Plus happy_var_1 happy_var_3\n",
    "\t)\n",
    "happyReduction_2 _ _ _  = notHappyAtAll \n",
    "happyReduce_3 = happySpecReduce_3  4 happyReduction_3\n",
    "happyReduction_3 (HappyAbsSyn4  happy_var_3)\n",
    "\t_\n",
    "\t(HappyAbsSyn4  happy_var_1)\n",
    "\t =  HappyAbsSyn4\n",
    "\t\t (Minus happy_var_1 happy_var_3\n",
    "\t)\n",
    "happyReduction_3 _ _ _  = notHappyAtAll \n",
    "happyReduce_4 = happySpecReduce_3  4 happyReduction_4\n",
    "happyReduction_4 (HappyAbsSyn4  happy_var_3)\n",
    "\t_\n",
    "\t(HappyAbsSyn4  happy_var_1)\n",
    "\t =  HappyAbsSyn4\n",
    "\t\t (Times happy_var_1 happy_var_3\n",
    "\t)\n",
    "happyReduction_4 _ _ _  = notHappyAtAll \n",
    "happyReduce_5 = happySpecReduce_3  4 happyReduction_5\n",
    "happyReduction_5 _\n",
    "\t(HappyAbsSyn4  happy_var_2)\n",
    "\t_\n",
    "\t =  HappyAbsSyn4\n",
    "\t\t (happy_var_2\n",
    "\t)\n",
    "happyReduction_5 _ _ _  = notHappyAtAll \n",
    "happyNewToken action sts stk [] =\n",
    "\taction 11 11 notHappyAtAll (HappyState action) sts stk []\n",
    "happyNewToken action sts stk (tk:tks) =\n",
    "\tlet cont i = action i i tk (HappyState action) sts stk tks in\n",
    "\tcase tk of {\n",
    "\tBop '+' -> cont 5;\n",
    "\tBop '-' -> cont 6;\n",
    "\tBop '*' -> cont 7;\n",
    "\tLParen -> cont 8;\n",
    "\tRParen -> cont 9;\n",
    "\tInt happy_dollar_dollar -> cont 10;\n",
    "\t_ -> happyError' (tk:tks)\n",
    "\t}\n",
    "happyError_ 11 tk tks = happyError' tks\n",
    "happyError_ _ tk tks = happyError' (tk:tks)\n",
    "newtype HappyIdentity a = HappyIdentity a\n",
    "happyIdentity = HappyIdentity\n",
    "happyRunIdentity (HappyIdentity a) = a\n",
    "instance Functor HappyIdentity where\n",
    "    fmap f (HappyIdentity a) = HappyIdentity (f a)\n",
    "instance Applicative HappyIdentity where\n",
    "    pure  = return\n",
    "    (<*>) = ap\n",
    "instance Monad HappyIdentity where\n",
    "    return = HappyIdentity\n",
    "    (HappyIdentity p) >>= q = q p\n",
    "happyThen :: () => HappyIdentity a -> (a -> HappyIdentity b) -> HappyIdentity b\n",
    "happyThen = (>>=)\n",
    "happyReturn :: () => a -> HappyIdentity a\n",
    "happyReturn = (return)\n",
    "happyThen1 m k tks = (>>=) m (\\a -> k a tks)\n",
    "happyReturn1 :: () => a -> b -> HappyIdentity a\n",
    "happyReturn1 = \\a tks -> (return) a\n",
    "happyError' :: () => [(Token)] -> HappyIdentity a\n",
    "happyError' = HappyIdentity . parseError\n",
    "parse tks = happyRunIdentity happySomeParser where\n",
    "  happySomeParser = happyThen (happyParse action_0 tks) (\\x -> case x of {HappyAbsSyn4 z -> happyReturn z; _other -> notHappyAtAll })\n",
    "happySeq = happyDontSeq\n",
    "parseError :: [Token] -> a\n",
    "parseError _ = error \"Parse error\"\n",
    "-- Id: GenericTemplate.hs,v 1.26 2005/01/14 14:47:22 simonmar Exp \n",
    "infixr 9 `HappyStk`\n",
    "data HappyStk a = HappyStk a (HappyStk a)\n",
    "-----------------------------------------------------------------------------\n",
    "-- starting the parse\n",
    "happyParse start_state = happyNewToken start_state notHappyAtAll notHappyAtAll\n",
    "-----------------------------------------------------------------------------\n",
    "-- Accepting the parse\n",
    "-- If the current token is (1), it means we've just accepted a partial\n",
    "-- parse (a %partial parser).  We must ignore the saved token on the top of\n",
    "-- the stack in this case.\n",
    "happyAccept (1) tk st sts (_ `HappyStk` ans `HappyStk` _) =\n",
    "        happyReturn1 ans\n",
    "happyAccept j tk st sts (HappyStk ans _) = \n",
    "         (happyReturn1 ans)\n",
    "-----------------------------------------------------------------------------\n",
    "-- Arrays only: do the next action\n",
    "-----------------------------------------------------------------------------\n",
    "-- HappyState data type (not arrays)\n",
    "newtype HappyState b c = HappyState\n",
    "        (Int ->                    -- token number\n",
    "         Int ->                    -- token number (yes, again)\n",
    "         b ->                           -- token semantic value\n",
    "         HappyState b c ->              -- current state\n",
    "         [HappyState b c] ->            -- state stack\n",
    "         c)\n",
    "-----------------------------------------------------------------------------\n",
    "-- Shifting a token\n",
    "happyShift new_state (1) tk st sts stk@(x `HappyStk` _) =\n",
    "     let i = (case x of { HappyErrorToken (i) -> i }) in\n",
    "--     trace \"shifting the error token\" $\n",
    "     new_state i i tk (HappyState (new_state)) ((st):(sts)) (stk)\n",
    "happyShift new_state i tk st sts stk =\n",
    "     happyNewToken new_state ((st):(sts)) ((HappyTerminal (tk))`HappyStk`stk)\n",
    "-- happyReduce is specialised for the common cases.\n",
    "happySpecReduce_0 i fn (1) tk st sts stk\n",
    "     = happyFail (1) tk st sts stk\n",
    "happySpecReduce_0 nt fn j tk st@((HappyState (action))) sts stk\n",
    "     = action nt j tk st ((st):(sts)) (fn `HappyStk` stk)\n",
    "happySpecReduce_1 i fn (1) tk st sts stk\n",
    "     = happyFail (1) tk st sts stk\n",
    "happySpecReduce_1 nt fn j tk _ sts@(((st@(HappyState (action))):(_))) (v1`HappyStk`stk')\n",
    "     = let r = fn v1 in\n",
    "       happySeq r (action nt j tk st sts (r `HappyStk` stk'))\n",
    "happySpecReduce_2 i fn (1) tk st sts stk\n",
    "     = happyFail (1) tk st sts stk\n",
    "happySpecReduce_2 nt fn j tk _ ((_):(sts@(((st@(HappyState (action))):(_))))) (v1`HappyStk`v2`HappyStk`stk')\n",
    "     = let r = fn v1 v2 in\n",
    "       happySeq r (action nt j tk st sts (r `HappyStk` stk'))\n",
    "happySpecReduce_3 i fn (1) tk st sts stk\n",
    "     = happyFail (1) tk st sts stk\n",
    "happySpecReduce_3 nt fn j tk _ ((_):(((_):(sts@(((st@(HappyState (action))):(_))))))) (v1`HappyStk`v2`HappyStk`v3`HappyStk`stk')\n",
    "     = let r = fn v1 v2 v3 in\n",
    "       happySeq r (action nt j tk st sts (r `HappyStk` stk'))\n",
    "happyReduce k i fn (1) tk st sts stk\n",
    "     = happyFail (1) tk st sts stk\n",
    "happyReduce k nt fn j tk st sts stk\n",
    "     = case happyDrop (k - ((1) :: Int)) sts of\n",
    "         sts1@(((st1@(HappyState (action))):(_))) ->\n",
    "                let r = fn stk in  -- it doesn't hurt to always seq here...\n",
    "                happyDoSeq r (action nt j tk st1 sts1 r)\n",
    "happyMonadReduce k nt fn (1) tk st sts stk\n",
    "     = happyFail (1) tk st sts stk\n",
    "happyMonadReduce k nt fn j tk st sts stk =\n",
    "      case happyDrop k ((st):(sts)) of\n",
    "        sts1@(((st1@(HappyState (action))):(_))) ->\n",
    "          let drop_stk = happyDropStk k stk in\n",
    "          happyThen1 (fn stk tk) (\\r -> action nt j tk st1 sts1 (r `HappyStk` drop_stk))\n",
    "happyMonad2Reduce k nt fn (1) tk st sts stk\n",
    "     = happyFail (1) tk st sts stk\n",
    "happyMonad2Reduce k nt fn j tk st sts stk =\n",
    "      case happyDrop k ((st):(sts)) of\n",
    "        sts1@(((st1@(HappyState (action))):(_))) ->\n",
    "         let drop_stk = happyDropStk k stk\n",
    "             new_state = action\n",
    "          in\n",
    "          happyThen1 (fn stk tk) (\\r -> happyNewToken new_state sts1 (r `HappyStk` drop_stk))\n",
    "happyDrop (0) l = l\n",
    "happyDrop n ((_):(t)) = happyDrop (n - ((1) :: Int)) t\n",
    "happyDropStk (0) l = l\n",
    "happyDropStk n (x `HappyStk` xs) = happyDropStk (n - ((1)::Int)) xs\n",
    "-----------------------------------------------------------------------------\n",
    "-- Moving to a new state after a reduction\n",
    "happyGoto action j tk st = action j j tk (HappyState action)\n",
    "-----------------------------------------------------------------------------\n",
    "-- Error recovery ((1) is the error token)\n",
    "-- parse error if we are in recovery and we fail again\n",
    "happyFail (1) tk old_st _ stk@(x `HappyStk` _) =\n",
    "     let i = (case x of { HappyErrorToken (i) -> i }) in\n",
    "--      trace \"failing\" $ \n",
    "        happyError_ i tk\n",
    "{-  We don't need state discarding for our restricted implementation of\n",
    "    \"error\".  In fact, it can cause some bogus parses, so I've disabled it\n",
    "    for now --SDM\n",
    "-- discard a state\n",
    "happyFail  (1) tk old_st (((HappyState (action))):(sts)) \n",
    "                                                (saved_tok `HappyStk` _ `HappyStk` stk) =\n",
    "--      trace (\"discarding state, depth \" ++ show (length stk))  $\n",
    "        action (1) (1) tk (HappyState (action)) sts ((saved_tok`HappyStk`stk))\n",
    "-}\n",
    "-- Enter error recovery: generate an error token,\n",
    "--                       save the old token and carry on.\n",
    "happyFail  i tk (HappyState (action)) sts stk =\n",
    "--      trace \"entering error recovery\" $\n",
    "        action (1) (1) tk (HappyState (action)) sts ( (HappyErrorToken (i)) `HappyStk` stk)\n",
    "-- Internal happy errors:\n",
    "notHappyAtAll :: a\n",
    "notHappyAtAll = error \"Internal Happy error\\n\"\n",
    "-----------------------------------------------------------------------------\n",
    "-- Hack to get the typechecker to accept our action functions\n",
    "-----------------------------------------------------------------------------\n",
    "-- Seq-ing.  If the --strict flag is given, then Happy emits \n",
    "--      happySeq = happyDoSeq\n",
    "-- otherwise it emits\n",
    "--      happySeq = happyDontSeq\n",
    "happyDoSeq, happyDontSeq :: a -> b -> b\n",
    "happyDoSeq   a b = a `seq` b\n",
    "happyDontSeq a b = b\n",
    "-----------------------------------------------------------------------------\n",
    "-- Don't inline any functions from the template.  GHC has a nasty habit\n",
    "-- of deciding to inline happyGoto everywhere, which increases the size of\n",
    "-- the generated parser quite a bit.\n",
    "-- end of Happy Template.\n",
    "\n",
    "\n",
    "\n"
   ]
  },
  {
   "cell_type": "code",
   "execution_count": 16,
   "metadata": {
    "collapsed": false
   },
   "outputs": [
    {
     "data": {
      "text/html": [
       "<style>/* Styles used for the Hoogle display in the pager */\n",
       ".hoogle-doc {\n",
       "display: block;\n",
       "padding-bottom: 1.3em;\n",
       "padding-left: 0.4em;\n",
       "}\n",
       ".hoogle-code {\n",
       "display: block;\n",
       "font-family: monospace;\n",
       "white-space: pre;\n",
       "}\n",
       ".hoogle-text {\n",
       "display: block;\n",
       "}\n",
       ".hoogle-name {\n",
       "color: green;\n",
       "font-weight: bold;\n",
       "}\n",
       ".hoogle-head {\n",
       "font-weight: bold;\n",
       "}\n",
       ".hoogle-sub {\n",
       "display: block;\n",
       "margin-left: 0.4em;\n",
       "}\n",
       ".hoogle-package {\n",
       "font-weight: bold;\n",
       "font-style: italic;\n",
       "}\n",
       ".hoogle-module {\n",
       "font-weight: bold;\n",
       "}\n",
       ".hoogle-class {\n",
       "font-weight: bold;\n",
       "}\n",
       ".get-type {\n",
       "color: green;\n",
       "font-weight: bold;\n",
       "font-family: monospace;\n",
       "display: block;\n",
       "white-space: pre-wrap;\n",
       "}\n",
       ".show-type {\n",
       "color: green;\n",
       "font-weight: bold;\n",
       "font-family: monospace;\n",
       "margin-left: 1em;\n",
       "}\n",
       ".mono {\n",
       "font-family: monospace;\n",
       "display: block;\n",
       "}\n",
       ".err-msg {\n",
       "color: red;\n",
       "font-style: italic;\n",
       "font-family: monospace;\n",
       "white-space: pre;\n",
       "display: block;\n",
       "}\n",
       "#unshowable {\n",
       "color: red;\n",
       "font-weight: bold;\n",
       "}\n",
       ".err-msg.in.collapse {\n",
       "padding-top: 0.7em;\n",
       "}\n",
       ".highlight-code {\n",
       "white-space: pre;\n",
       "font-family: monospace;\n",
       "}\n",
       ".suggestion-warning { \n",
       "font-weight: bold;\n",
       "color: rgb(200, 130, 0);\n",
       "}\n",
       ".suggestion-error { \n",
       "font-weight: bold;\n",
       "color: red;\n",
       "}\n",
       ".suggestion-name {\n",
       "font-weight: bold;\n",
       "}\n",
       "</style><span class='get-type'>parse :: [Token] -> Exp</span>"
      ],
      "text/plain": [
       "parse :: [Token] -> Exp"
      ]
     },
     "metadata": {},
     "output_type": "display_data"
    }
   ],
   "source": [
    ":type parse"
   ]
  },
  {
   "cell_type": "code",
   "execution_count": 17,
   "metadata": {
    "collapsed": false
   },
   "outputs": [
    {
     "data": {
      "text/html": [
       "<style>/* Styles used for the Hoogle display in the pager */\n",
       ".hoogle-doc {\n",
       "display: block;\n",
       "padding-bottom: 1.3em;\n",
       "padding-left: 0.4em;\n",
       "}\n",
       ".hoogle-code {\n",
       "display: block;\n",
       "font-family: monospace;\n",
       "white-space: pre;\n",
       "}\n",
       ".hoogle-text {\n",
       "display: block;\n",
       "}\n",
       ".hoogle-name {\n",
       "color: green;\n",
       "font-weight: bold;\n",
       "}\n",
       ".hoogle-head {\n",
       "font-weight: bold;\n",
       "}\n",
       ".hoogle-sub {\n",
       "display: block;\n",
       "margin-left: 0.4em;\n",
       "}\n",
       ".hoogle-package {\n",
       "font-weight: bold;\n",
       "font-style: italic;\n",
       "}\n",
       ".hoogle-module {\n",
       "font-weight: bold;\n",
       "}\n",
       ".hoogle-class {\n",
       "font-weight: bold;\n",
       "}\n",
       ".get-type {\n",
       "color: green;\n",
       "font-weight: bold;\n",
       "font-family: monospace;\n",
       "display: block;\n",
       "white-space: pre-wrap;\n",
       "}\n",
       ".show-type {\n",
       "color: green;\n",
       "font-weight: bold;\n",
       "font-family: monospace;\n",
       "margin-left: 1em;\n",
       "}\n",
       ".mono {\n",
       "font-family: monospace;\n",
       "display: block;\n",
       "}\n",
       ".err-msg {\n",
       "color: red;\n",
       "font-style: italic;\n",
       "font-family: monospace;\n",
       "white-space: pre;\n",
       "display: block;\n",
       "}\n",
       "#unshowable {\n",
       "color: red;\n",
       "font-weight: bold;\n",
       "}\n",
       ".err-msg.in.collapse {\n",
       "padding-top: 0.7em;\n",
       "}\n",
       ".highlight-code {\n",
       "white-space: pre;\n",
       "font-family: monospace;\n",
       "}\n",
       ".suggestion-warning { \n",
       "font-weight: bold;\n",
       "color: rgb(200, 130, 0);\n",
       "}\n",
       ".suggestion-error { \n",
       "font-weight: bold;\n",
       "color: red;\n",
       "}\n",
       ".suggestion-name {\n",
       "font-weight: bold;\n",
       "}\n",
       "</style><span class='get-type'>parse . lexer :: String -> Exp</span>"
      ],
      "text/plain": [
       "parse . lexer :: String -> Exp"
      ]
     },
     "metadata": {},
     "output_type": "display_data"
    }
   ],
   "source": [
    ":type parse . lexer"
   ]
  },
  {
   "cell_type": "code",
   "execution_count": 18,
   "metadata": {
    "collapsed": false
   },
   "outputs": [
    {
     "data": {
      "text/plain": [
       "Minus (Plus (Times (Num 5) (Num 2)) (Num 3)) (Num 4)"
      ]
     },
     "metadata": {},
     "output_type": "display_data"
    },
    {
     "data": {
      "text/plain": [
       "Minus (Plus (Num 5) (Times (Num 2) (Num 3))) (Num 4)"
      ]
     },
     "metadata": {},
     "output_type": "display_data"
    }
   ],
   "source": [
    "parse $ lexer \"5 * 2 + 3 - 4\"\n",
    "parse $ lexer \"5 + 2 * 3 - 4\""
   ]
  },
  {
   "cell_type": "code",
   "execution_count": 19,
   "metadata": {
    "collapsed": false
   },
   "outputs": [
    {
     "data": {
      "text/plain": [
       "Plus (Plus (Plus (Plus (Num 5) (Num 4)) (Num 3)) (Num 2)) (Num 1)"
      ]
     },
     "metadata": {},
     "output_type": "display_data"
    }
   ],
   "source": [
    "parse $ lexer \"5 + 4 + 3 + 2 + 1\""
   ]
  },
  {
   "cell_type": "code",
   "execution_count": 20,
   "metadata": {
    "collapsed": false
   },
   "outputs": [
    {
     "data": {
      "text/plain": [
       "Minus (Minus (Minus (Minus (Num 5) (Num 4)) (Num 3)) (Num 2)) (Num 1)"
      ]
     },
     "metadata": {},
     "output_type": "display_data"
    }
   ],
   "source": [
    "parse $ lexer \"5 - 4 - 3 - 2 - 1\""
   ]
  },
  {
   "cell_type": "markdown",
   "metadata": {},
   "source": [
    "## 인터프리터\n",
    "인터프리터를 `eval`이라는 함수로 정의하자. 수식의 값을 계산하는 것을 영어로 evaluation이라고 하므로 그 앞부분을 따서 이름을 붙였다.\n",
    "인터프리터는 `Exp` 타입의 수식을 받아서 `Int` 타입 정수값을 돌려주는 함수이다. 귀납기초인 `(Num n)`은 더 이상 계산할 필요 없이 `n`을 돌려주면 되고 나머지 연산자로 이루어진 귀납단계의 경우들은 두 부분식 `e1`과 `e2`를 계산할 수 있다는 두 개의 귀납가정 `eval e1`과 `eval e2`를 이용하여 아래와 같이 정의하면 된다."
   ]
  },
  {
   "cell_type": "code",
   "execution_count": 22,
   "metadata": {
    "collapsed": false
   },
   "outputs": [],
   "source": [
    "eval :: Exp -> Int\n",
    "eval (Num n)       = n\n",
    "eval (Plus  e1 e2) = eval e1 + eval e2\n",
    "eval (Minus e1 e2) = eval e1 - eval e2\n",
    "eval (Times e1 e2) = eval e1 * eval e2"
   ]
  },
  {
   "cell_type": "code",
   "execution_count": 52,
   "metadata": {
    "collapsed": false
   },
   "outputs": [
    {
     "data": {
      "text/plain": [
       "6"
      ]
     },
     "metadata": {},
     "output_type": "display_data"
    },
    {
     "data": {
      "text/plain": [
       "6"
      ]
     },
     "metadata": {},
     "output_type": "display_data"
    },
    {
     "data": {
      "text/plain": [
       "6"
      ]
     },
     "metadata": {},
     "output_type": "display_data"
    }
   ],
   "source": [
    "-- 3 + (5 - 2) 를 인터프리터로 계산해 보자\n",
    "\n",
    "eval (Plus (Num 3) (Minus (Num 5) (Num 2)))\n",
    "\n",
    "eval $ parse $ lexer \" 3 + (5 - 2) \"\n",
    "\n",
    "eval $ parse $ lexer \"3+(5-2)\""
   ]
  },
  {
   "cell_type": "markdown",
   "metadata": {},
   "source": [
    "인터프리터는 생각보다 매우 간단하지 않은가? 트리에 대한 구조적 귀납법으로 작성된 함수일 뿐이다. 물론 이렇게까지 간단한 것은 우리 언어가 번수도 함수도 없고 조건문도 반복문도 없는 정말 단순한 언어이기 때문이다. 변수, 함수, 조건문, 반복문 등등의 더 많은 기능이 있는 프로그래밍 언어의 인터프리터는 당연히 더 복잡해지겠지만 기본 핵심 원리는 우리가 만들어본 `eval`과 마찬가지다."
   ]
  },
  {
   "cell_type": "markdown",
   "metadata": {},
   "source": [
    "## 컴파일러\n",
    "컴파일러는 소스 프로그램(혹은 코드)를 목적 코드로 번역해야 한다. 그렇다면 목적 코드에 해당하는 저수준 언어가 있어야 하는데, 여기서는 우리의 소스 프로그램에 쓰이는 3칙연산을 포함한 최소한의 명령어 셋으로 구성된 간단한 가상의 스택 머신을 정의할 것이다. 그래서 우리가 작성할 컴파일러는 Exp 타입의 수식을 받아 이 스택 머신의 기계어 코드를 돌려주는 함수로 정의될 것이다.\n",
    "\n",
    "### 가상머신에 필요한 타입 정의\n",
    "일단 스택 머신에는 스택이 있어야 하는데 우리는 지금 다른 값은 고려할 필요 없이 정수만 스택에 넣으면 되므로 그냥 리스트를 사용해 스택을 표현할 수 있다. 예를 들면 `[1,2,3,4]`가 네 개의 값이 들어있는 스택을 표현하는 리스트면 1이 맨 위의 값이고 4가 맨 밑의 값이다.\n",
    "\n",
    "그 다음으로는 명령어 타입인 `Inst`를 정의하면 된다. 명령어를 영어로 instruction이라고 하므로 그 앞글자들을 따서 이름을 붙였다. 우선 스택머신이므로 `PUSH`와 `POP`이 기본적으로 제공되며 덧셈, 뺄셈, 곱셈에 해당하는 `ADD`, `SUB`, `MUL`이 제공된다. `ADD`, `SUB`, `MUL` 명령어에는 아무런 추가 정보가 필요없다. 왜냐하면 스택머신에서 연산은 스택의 제일 위에 있는 값을 소모하여 연산을 한 후 그 결과값을 스택의 맨 위에다 올려놓는 방식으로, 연산에 필요한 인자의 위치와 연산의 결과를 저장할 위치가 이미 정해져 있기 때문이다."
   ]
  },
  {
   "cell_type": "code",
   "execution_count": 27,
   "metadata": {
    "collapsed": true
   },
   "outputs": [],
   "source": [
    "-- 스택을 정수 리스트로 표현한다. 왼쪽이 꼭대기, 오른쪽이 바닥이다.\n",
    "type Stack = [Int]\n",
    "\n",
    "-- 가상 머신의 명령어(인스트럭션)\n",
    "data Inst = PUSH Int | POP | ADD | SUB | MUL deriving Show\n",
    "\n",
    "-- 기계어 코드란 명령어(인스트럭션)가 한줄로 나열된 리스트, 즉 [Inst] 타입이다\n",
    "type Code = [Inst]"
   ]
  },
  {
   "cell_type": "markdown",
   "metadata": {},
   "source": [
    "### 가상머신 명령어의 의미를 함수로 정의\n",
    "위에서 `Inst`라는 타입 정의를 통해 가상머신 명령어의 문법을 정의하였다. 각각의 명령어가 어떤 의미를 가지는지, 즉 가상머신에서 명령어 하나를 실행한다는 것이 구체적으로 무슨 의미인지, 즉 어떤 계산으로 표현할 수 있는지를 각각의 명령어의 의미를 명확하게 정의해야 한다. 이렇게 각가의 명령어의 의미를 정의하고 있는 함수가 바로 아래에 있는 `stepVM`이다. `stepVM` 함수는 주어진 가상머신의 스택 상태에서 명령어(인스트럭션) 하나를 실행하고 나면 그 다음 단계에 스택이 어떻게 되어 있을지를 계산하는 함수이다. 즉 스택과 명령어 하나를 받아 스택을 돌려주는 함수인 것이다."
   ]
  },
  {
   "cell_type": "code",
   "execution_count": 28,
   "metadata": {
    "collapsed": false
   },
   "outputs": [],
   "source": [
    "stepVM :: Stack -> Inst -> Stack\n",
    "stepVM stack       (PUSH n) = n : stack     -- 스택 맨 위에 주어진 값 n 쌓는다\n",
    "stepVM (n : stack) POP      = stack         -- 스택 맨 위의 값을 꺼내어 버린다\n",
    "stepVM (x:y:stack) ADD      = (y+x) : stack -- 맨 위의 값 둘을 스택에서 꺼내 그 덧셈 결과를 맨 위에 쌓는다\n",
    "stepVM (x:y:stack) SUB      = (y-x) : stack -- 맨 위의 값 둘을 스택에서 꺼내 그 뺄셈 결과를 맨 위에 쌓는다\n",
    "stepVM (x:y:stack) MUL      = (y*x) : stack -- 맨 위의 값 둘을 스택에서 꺼내 그 곱셈 결과를 맨 위에 쌓는다"
   ]
  },
  {
   "cell_type": "markdown",
   "metadata": {},
   "source": [
    "위에서 정의한 함수로 각각의 명령어가 어떻게 동작하는지 테스트해 보자. "
   ]
  },
  {
   "cell_type": "code",
   "execution_count": 29,
   "metadata": {
    "collapsed": false
   },
   "outputs": [
    {
     "data": {
      "text/plain": [
       "[1,2,3,4]"
      ]
     },
     "metadata": {},
     "output_type": "display_data"
    }
   ],
   "source": [
    "stepVM [2,3,4] (PUSH 1)"
   ]
  },
  {
   "cell_type": "code",
   "execution_count": 30,
   "metadata": {
    "collapsed": false
   },
   "outputs": [
    {
     "data": {
      "text/plain": [
       "[3,4]"
      ]
     },
     "metadata": {},
     "output_type": "display_data"
    }
   ],
   "source": [
    "stepVM [2,3,4] POP"
   ]
  },
  {
   "cell_type": "code",
   "execution_count": 31,
   "metadata": {
    "collapsed": false
   },
   "outputs": [
    {
     "data": {
      "text/plain": [
       "[5,4]"
      ]
     },
     "metadata": {},
     "output_type": "display_data"
    }
   ],
   "source": [
    "stepVM [2,3,4] ADD"
   ]
  },
  {
   "cell_type": "code",
   "execution_count": 32,
   "metadata": {
    "collapsed": false
   },
   "outputs": [
    {
     "data": {
      "text/plain": [
       "[1,4]"
      ]
     },
     "metadata": {},
     "output_type": "display_data"
    }
   ],
   "source": [
    "stepVM [2,3,4] SUB"
   ]
  },
  {
   "cell_type": "code",
   "execution_count": 33,
   "metadata": {
    "collapsed": false
   },
   "outputs": [
    {
     "data": {
      "text/plain": [
       "[6,4]"
      ]
     },
     "metadata": {},
     "output_type": "display_data"
    }
   ],
   "source": [
    "stepVM [2,3,4] MUL"
   ]
  },
  {
   "cell_type": "markdown",
   "metadata": {},
   "source": [
    "### 손컴파일 예제 한단계씩 실행해 보기\n",
    "\"3 + (5 - 2)\"에 해당하는 `(Plus (Num 3) (Minus (Num 5) (Num 2)))`를 손으로 목적 코드(즉, 스택머신 명령어의 나열)로 번역하면 다음과 같이 될 것이다.\n",
    "```\n",
    "PUSH 3\n",
    "PUSH 5\n",
    "PUSH 2\n",
    "SUB\n",
    "ADD\n",
    "```\n",
    "이렇게 손컴파일한 것을 빈 스택 상태에서 시작해서 한 단계씩 실행시켜 보자."
   ]
  },
  {
   "cell_type": "code",
   "execution_count": 34,
   "metadata": {
    "collapsed": false
   },
   "outputs": [
    {
     "data": {
      "text/plain": [
       "[3]"
      ]
     },
     "metadata": {},
     "output_type": "display_data"
    }
   ],
   "source": [
    "stepVM [] (PUSH 3)"
   ]
  },
  {
   "cell_type": "code",
   "execution_count": 35,
   "metadata": {
    "collapsed": false
   },
   "outputs": [
    {
     "data": {
      "text/plain": [
       "[5,3]"
      ]
     },
     "metadata": {},
     "output_type": "display_data"
    }
   ],
   "source": [
    "stepVM [3] (PUSH 5)"
   ]
  },
  {
   "cell_type": "code",
   "execution_count": 36,
   "metadata": {
    "collapsed": false
   },
   "outputs": [
    {
     "data": {
      "text/plain": [
       "[2,5,3]"
      ]
     },
     "metadata": {},
     "output_type": "display_data"
    }
   ],
   "source": [
    "stepVM [5,3] (PUSH 2)"
   ]
  },
  {
   "cell_type": "code",
   "execution_count": 37,
   "metadata": {
    "collapsed": false
   },
   "outputs": [
    {
     "data": {
      "text/plain": [
       "[3,3]"
      ]
     },
     "metadata": {},
     "output_type": "display_data"
    }
   ],
   "source": [
    "stepVM [2,5,3] SUB"
   ]
  },
  {
   "cell_type": "code",
   "execution_count": 38,
   "metadata": {
    "collapsed": false
   },
   "outputs": [
    {
     "data": {
      "text/plain": [
       "[6]"
      ]
     },
     "metadata": {},
     "output_type": "display_data"
    }
   ],
   "source": [
    "stepVM [3,3] ADD"
   ]
  },
  {
   "cell_type": "markdown",
   "metadata": {},
   "source": [
    "### 가상머신 실행\n",
    "가상머신은 가상머신용 기계어 코드의 인터프리터다. 가상머신은 현재 스택 상태 시작해서 기계어 코드를 실행한다.\n",
    "기계어 코드는 명령어(인스트럭션)의 나열, 즉 `[Inst]` 타입의 리스트로 표현할 수 있다.\n",
    "그러므로 가상머신의 실행이란, 현재 가상머신의 상태인 `Stack`과 실행시킬 가상머신용 기계어 `Code`를 받아 실행 후 최종 상태의 `Stack`을 돌려주는 아래와 같은 함수로 정의할 수 있다. 가상머신의 실행을 정의하는 함수 `runVM`은 기계어 코드 길이(명렁어 개수)에 대한 수학적 귀납법 구조를 따라 정의되어 있으며, 앞서 정의한 하나의 명령어를 실행시키는 함수 `stepVM`을 이용하고 있다."
   ]
  },
  {
   "cell_type": "code",
   "execution_count": 39,
   "metadata": {
    "collapsed": true
   },
   "outputs": [],
   "source": [
    "runVM :: Stack -> Code -> Stack\n",
    "runVM stack []          = stack\n",
    "runVM stack (inst:code) = runVM (stepVM stack inst) code"
   ]
  },
  {
   "cell_type": "code",
   "execution_count": 40,
   "metadata": {
    "collapsed": false
   },
   "outputs": [
    {
     "data": {
      "text/plain": [
       "[9]"
      ]
     },
     "metadata": {},
     "output_type": "display_data"
    }
   ],
   "source": [
    "runVM [2,3,4] [ADD,ADD]"
   ]
  },
  {
   "cell_type": "code",
   "execution_count": 41,
   "metadata": {
    "collapsed": false
   },
   "outputs": [
    {
     "data": {
      "text/plain": [
       "[6]"
      ]
     },
     "metadata": {},
     "output_type": "display_data"
    }
   ],
   "source": [
    "-- 손컴파일 예제 목적 코드를 runVM으로 한꺼번에 실행\n",
    "runVM [] [PUSH 3, PUSH 5, PUSH 2, SUB, ADD]"
   ]
  },
  {
   "cell_type": "markdown",
   "metadata": {},
   "source": [
    "### 컴파일러 정의\n",
    "다음 시간에는 `Exp` 타입의 소스 프로그램을 받아 자동으로 목적 `Code`를 생성하는 컴파일 함수를 정의해 보겠다. \n",
    "\n",
    "우선 컴파일러를 정의하기 전에 컴파일러를 정의하는 데 쓸 `(++)` 연산자에 대한 기억을 되살려 보자. 우리가 직접 정의해 사용하던 `List`에 대한 함수들 중 두 리스트를 이어붙이는 `append`라는 함수를 정의했고 이 함수는 `Nat` 타입의 일진수 자연수의 덧셈과 같은 구조를 갖고 있다는 것이 기억나는가? (안난다면 복습을 ...) 하스켈 표준라이브러리에서 제공하는 리스트에 대해 `append` 함수와 같은 역할을 하는 연산자가 바로 `(++)`이다. 일단 하스켈 표준라이브러리 리스트는 (`:`)가 우리가 직접 만들어 쓰던 `List`의 `Cons`에 해당한다. 즉 `(:)`로 다음과 같이 리스트 맨 앞에 원소를 하나 추가할 수 있다."
   ]
  },
  {
   "cell_type": "code",
   "execution_count": 42,
   "metadata": {
    "collapsed": false
   },
   "outputs": [
    {
     "data": {
      "text/plain": [
       "[1,2,3]"
      ]
     },
     "metadata": {},
     "output_type": "display_data"
    }
   ],
   "source": [
    "1 : [2,3]"
   ]
  },
  {
   "cell_type": "markdown",
   "metadata": {},
   "source": [
    "그리고 `(++)`로 두 리스트를 다음과 같이 이어붙일 수 있다."
   ]
  },
  {
   "cell_type": "code",
   "execution_count": 43,
   "metadata": {
    "collapsed": false
   },
   "outputs": [
    {
     "data": {
      "text/plain": [
       "[2,3,4,5]"
      ]
     },
     "metadata": {},
     "output_type": "display_data"
    }
   ],
   "source": [
    "[2,3] ++ [4,5]"
   ]
  },
  {
   "cell_type": "markdown",
   "metadata": {},
   "source": [
    "리스트의 맨 뒤에 원소를 추가할 때도 `(++)` 연산자를 이용할 수 있다. 맨 끝에다 넣을 원소 하나만 들어 있는 리스트를 뒤에다 이어붙이면 된다."
   ]
  },
  {
   "cell_type": "code",
   "execution_count": 44,
   "metadata": {
    "collapsed": false
   },
   "outputs": [
    {
     "data": {
      "text/plain": [
       "[2,3,1]"
      ]
     },
     "metadata": {},
     "output_type": "display_data"
    }
   ],
   "source": [
    "[2,3] ++ [1]"
   ]
  },
  {
   "cell_type": "markdown",
   "metadata": {},
   "source": [
    "리스트를 이어붙이는 `(++)` 연산자 뭔지 이제 기억이 났을 것이다. 혹시 기억이 안나더라도 뭐하는 연산자인지 감을 잡았을 것이다.\n",
    "\n",
    "이제 compile 함수를 정의하자. 컴파일러는 `Exp` 타입의 소스 프로그램을 받아 목적 `Code`를 돌려주는 함수이다. 여기서 `Code`는 명령어가 일렬로 죽 나열된 리스트, 즉 `[Inst]` 타입을 나타낸다고 앞서 선언했었다. compile 함수의 정의는 다음과 같다."
   ]
  },
  {
   "cell_type": "code",
   "execution_count": 45,
   "metadata": {
    "collapsed": false
   },
   "outputs": [],
   "source": [
    "compile :: Exp -> Code       -- Code = [Inst]\n",
    "compile (Num n)       = [PUSH n]\n",
    "compile (Plus  e1 e2) = compile e1 ++ compile e2 ++ [ADD]\n",
    "compile (Minus e1 e2) = compile e1 ++ compile e2 ++ [SUB]\n",
    "compile (Times e1 e2) = compile e1 ++ compile e2 ++ [MUL]"
   ]
  },
  {
   "cell_type": "code",
   "execution_count": 46,
   "metadata": {
    "collapsed": false
   },
   "outputs": [
    {
     "data": {
      "text/plain": [
       "[PUSH 3]"
      ]
     },
     "metadata": {},
     "output_type": "display_data"
    }
   ],
   "source": [
    "compile (Num 3)"
   ]
  },
  {
   "cell_type": "code",
   "execution_count": 47,
   "metadata": {
    "collapsed": false
   },
   "outputs": [
    {
     "data": {
      "text/plain": [
       "[PUSH 3,PUSH 3,ADD]"
      ]
     },
     "metadata": {},
     "output_type": "display_data"
    }
   ],
   "source": [
    "compile (Plus (Num 3) (Num 3))"
   ]
  },
  {
   "cell_type": "code",
   "execution_count": 48,
   "metadata": {
    "collapsed": false
   },
   "outputs": [
    {
     "data": {
      "text/plain": [
       "[6]"
      ]
     },
     "metadata": {},
     "output_type": "display_data"
    }
   ],
   "source": [
    "runVM [] [PUSH 3,PUSH 3,ADD]"
   ]
  },
  {
   "cell_type": "code",
   "execution_count": 49,
   "metadata": {
    "collapsed": false
   },
   "outputs": [
    {
     "data": {
      "text/plain": [
       "[PUSH 3,PUSH 5,PUSH 2,SUB,ADD]"
      ]
     },
     "metadata": {},
     "output_type": "display_data"
    }
   ],
   "source": [
    "compile (Plus (Num 3) (Minus (Num 5) (Num 2)))"
   ]
  },
  {
   "cell_type": "code",
   "execution_count": 50,
   "metadata": {
    "collapsed": false
   },
   "outputs": [
    {
     "data": {
      "text/plain": [
       "6"
      ]
     },
     "metadata": {},
     "output_type": "display_data"
    }
   ],
   "source": [
    "eval (Plus (Num 3) (Minus (Num 5) (Num 2)))"
   ]
  },
  {
   "cell_type": "code",
   "execution_count": 51,
   "metadata": {
    "collapsed": false
   },
   "outputs": [
    {
     "data": {
      "text/plain": [
       "[6]"
      ]
     },
     "metadata": {},
     "output_type": "display_data"
    }
   ],
   "source": [
    "runVM [] [PUSH 3,PUSH 5,PUSH 2,SUB,ADD]"
   ]
  },
  {
   "cell_type": "code",
   "execution_count": 57,
   "metadata": {
    "collapsed": false
   },
   "outputs": [
    {
     "data": {
      "text/plain": [
       "6"
      ]
     },
     "metadata": {},
     "output_type": "display_data"
    },
    {
     "data": {
      "text/plain": [
       "[PUSH 3,PUSH 5,PUSH 2,SUB,ADD]"
      ]
     },
     "metadata": {},
     "output_type": "display_data"
    },
    {
     "data": {
      "text/plain": [
       "[6]"
      ]
     },
     "metadata": {},
     "output_type": "display_data"
    }
   ],
   "source": [
    "eval $ parse $ lexer \"3 + (5 - 2)\"\n",
    "\n",
    "compile $ parse $ lexer \"3 + (5 -2)\"\n",
    "\n",
    "runVM [] $ compile $ parse $ lexer \"3 + (5 -2)\""
   ]
  }
 ],
 "metadata": {
  "kernelspec": {
   "display_name": "Haskell",
   "language": "haskell",
   "name": "haskell"
  },
  "language_info": {
   "codemirror_mode": "ihaskell",
   "file_extension": ".hs",
   "name": "haskell",
   "version": "7.10.2"
  }
 },
 "nbformat": 4,
 "nbformat_minor": 0
}
