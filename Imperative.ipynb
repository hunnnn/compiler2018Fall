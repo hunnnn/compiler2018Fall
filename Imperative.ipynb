{
 "cells": [
  {
   "cell_type": "code",
   "execution_count": 1,
   "metadata": {
    "collapsed": true
   },
   "outputs": [],
   "source": [
    "data Ty\n",
    "  = Int         -- int\n",
    "  | Arr Ty Int  -- ty[3]\n",
    "  | Ptr Ty      -- ty*\n",
    "  | Str String  -- struct list\n",
    "  deriving Show\n",
    "\n",
    "data SDec = SDec String [VDec]     -- struct list { ... };\n",
    "  deriving Show\n",
    "\n",
    "data VDec = VDec Ty String         -- int x;\n",
    "  deriving Show\n",
    "\n",
    "data FDec = FDec Ty String [VDec] [VDec] Stmt\n",
    "  deriving Show\n",
    "\n",
    "data Stmt\n",
    "  = Sseq [Stmt]               --  { ss }  where ss is either empty or e1; e2; ... \n",
    "  | Sexp Exp                  --  e;\n",
    "  | If Exp Stmt               --  if (e) s\n",
    "  | IfElse Exp Stmt Stmt      --  if (e) s1 else s2\n",
    "  | While Exp Stmt            --  while (e) s\n",
    "  | Switch Exp [Stmt] Stmt    --  switch (e) { case 0: ss1 break; case 1: ss0 break; ... default: ssk }\n",
    "  | For (Exp, Exp, Exp) Stmt  --  for (e1; e2; e3) s\n",
    "  deriving Show\n",
    "  \n",
    "data Exp \n",
    "  = Lit Int            --  3\n",
    "  | Var String         --  x\n",
    "  | Sizeof Ty          --  sizeof(ty)\n",
    "  | Assign Exp Exp     --  e1 <- e2\n",
    "  | And Exp Exp        --  e1 && e2\n",
    "  | Or Exp Exp         --  e1 || e2\n",
    "  | Not Exp            --  ! e\n",
    "  | Neg Exp            --  - e\n",
    "  | Add Exp Exp        --  e1 + e2\n",
    "  | Sub Exp Exp        --  e1 - e2\n",
    "  | Mul Exp Exp        --  e1 * e2\n",
    "  | Div Exp Exp        --  e1 / e2\n",
    "  | Ref                --  & e\n",
    "  | Deref              --  * e\n",
    "  | Func String [Exp]  -- f(e1, e2, ...)\n",
    "  deriving Show\n",
    "\n",
    "data Prog = Prog [SDec] [VDec] [FDec] Stmt  deriving Show"
   ]
  },
  {
   "cell_type": "code",
   "execution_count": 3,
   "metadata": {
    "collapsed": false
   },
   "outputs": [],
   "source": [
    "type Addr = Int\n",
    "\n",
    "type AEnv = [(String, Addr)]\n",
    "type TEnv = [(String, Ty)]\n",
    "type SEnv = [(String, [TEnv])]\n",
    "\n",
    "{-\n",
    "data Inst\n",
    "  = ADD | SUB | MUL | DIV | NEG\n",
    "  | AND | OR | NOT\n",
    "  | EQU | NEQ | GR | GEQ | LE | LEQ\n",
    "  | DUP | POP | ALLOC | SLIDE | CALL | ENTER  | RETURN\n",
    "  | JUMP | JUMPz | JUMPi\n",
    "-}\n",
    "\n",
    "type Code = [Inst]\n",
    "\n",
    "data Inst\n",
    "  = ADD | SUB | MUL | DIV | NEG\n",
    "  | AND | OR | NOT\n",
    "  | EQU | NEQ | GR | GEQ | LE | LEQ\n",
    "  | DUP | POP\n",
    "--  | ALLOC | SLIDE | CALL | ENTER  | RETURN\n",
    "  | JUMP Code | JUMPz Code | JUMPi Code\n",
    "--  | LOAD  | LOADa  | LOADc  | LOADr | LOADrc\n",
    "--  | STORE | STOREa | STOREc | STOREr\n",
    "--  | MALLOC | NEW\n",
    "--  | MARK\n",
    "  | HALT\n",
    "  deriving Show  "
   ]
  },
  {
   "cell_type": "code",
   "execution_count": null,
   "metadata": {
    "collapsed": true
   },
   "outputs": [],
   "source": []
  }
 ],
 "metadata": {
  "kernelspec": {
   "display_name": "Haskell",
   "language": "haskell",
   "name": "haskell"
  },
  "language_info": {
   "codemirror_mode": "ihaskell",
   "file_extension": ".hs",
   "name": "haskell",
   "version": "7.10.2"
  }
 },
 "nbformat": 4,
 "nbformat_minor": 0
}
