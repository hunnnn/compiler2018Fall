{
 "cells": [
  {
   "cell_type": "code",
   "execution_count": 1,
   "metadata": {
    "collapsed": true
   },
   "outputs": [],
   "source": [
    "data Ty\n",
    "  = Int         -- int\n",
    "  | Arr Ty Int  -- ty[3]\n",
    "  | Ptr Ty      -- ty*\n",
    "  | Str String  -- struct list\n",
    "  deriving Show\n",
    "\n",
    "data SDec = SDec String [VDec]     -- struct list { ... };\n",
    "  deriving Show\n",
    "\n",
    "data VDec = VDec Ty String         -- int x;\n",
    "  deriving Show\n",
    "\n",
    "data FDec = FDec Ty String [VDec] [VDec] Stmt\n",
    "  deriving Show\n",
    "\n",
    "data Stmt\n",
    "  = Sseq [Stmt]               --  { ss }  where ss is either empty or e1; e2; ... \n",
    "  | Sexp Exp                  --  e;\n",
    "  | If Exp Stmt               --  if (e) s\n",
    "  | IfElse Exp Stmt Stmt      --  if (e) s1 else s2\n",
    "  | While Exp Stmt            --  while (e) s\n",
    "  | Switch Exp [Stmt] Stmt    --  switch (e) { case 0: ss1 break; case 1: ss0 break; ... default: ssk }\n",
    "  | For (Exp, Exp, Exp) Stmt  --  for (e1; e2; e3) s\n",
    "  deriving Show\n",
    "  \n",
    "data Exp \n",
    "  = Lit Int            --  3\n",
    "  | Var String         --  x\n",
    "  | Sizeof Ty          --  sizeof(ty)\n",
    "  | Assign Exp Exp     --  e1 <- e2\n",
    "  | And Exp Exp        --  e1 && e2\n",
    "  | Or Exp Exp         --  e1 || e2\n",
    "  | Not Exp            --  ! e\n",
    "  | Neg Exp            --  - e\n",
    "  | Add Exp Exp        --  e1 + e2\n",
    "  | Sub Exp Exp        --  e1 - e2\n",
    "  | Mul Exp Exp        --  e1 * e2\n",
    "  | Div Exp Exp        --  e1 / e2\n",
    "  | Ref                --  & e\n",
    "  | Deref              --  * e\n",
    "  | Func String [Exp]  -- f(e1, e2, ...)\n",
    "  deriving Show\n",
    "\n",
    "data Prog = Prog [SDec] [VDec] [FDec] Stmt  deriving Show"
   ]
  },
  {
   "cell_type": "code",
   "execution_count": 3,
   "metadata": {
    "collapsed": false
   },
   "outputs": [],
   "source": [
    "type Addr = Int\n",
    "\n",
    "type AEnv = [(String, Addr)]\n",
    "type TEnv = [(String, Ty)]\n",
    "type SEnv = [(String, [TEnv])]\n",
    "\n",
    "type Code = [Inst]\n",
    "\n",
    "data Inst\n",
    "  = ADD | SUB | MUL | DIV | NEG\n",
    "  | AND | OR | NOT\n",
    "  | EQU | NEQ | GR | GEQ | LE | LEQ\n",
    "  | DUP | POP\n",
    "--  | ALLOC | SLIDE | CALL | ENTER  | RETURN\n",
    "  | JUMP Code | JUMPz Code | JUMPi Code\n",
    "--  | LOAD  | LOADa  | LOADc  | LOADr | LOADrc\n",
    "--  | STORE | STOREa | STOREc | STOREr\n",
    "--  | MALLOC | NEW\n",
    "--  | MARK\n",
    "  | HALT\n",
    "  deriving Show  "
   ]
  },
  {
   "cell_type": "code",
   "execution_count": 23,
   "metadata": {
    "collapsed": false
   },
   "outputs": [
    {
     "data": {
      "text/html": [
       "<style>/* Styles used for the Hoogle display in the pager */\n",
       ".hoogle-doc {\n",
       "display: block;\n",
       "padding-bottom: 1.3em;\n",
       "padding-left: 0.4em;\n",
       "}\n",
       ".hoogle-code {\n",
       "display: block;\n",
       "font-family: monospace;\n",
       "white-space: pre;\n",
       "}\n",
       ".hoogle-text {\n",
       "display: block;\n",
       "}\n",
       ".hoogle-name {\n",
       "color: green;\n",
       "font-weight: bold;\n",
       "}\n",
       ".hoogle-head {\n",
       "font-weight: bold;\n",
       "}\n",
       ".hoogle-sub {\n",
       "display: block;\n",
       "margin-left: 0.4em;\n",
       "}\n",
       ".hoogle-package {\n",
       "font-weight: bold;\n",
       "font-style: italic;\n",
       "}\n",
       ".hoogle-module {\n",
       "font-weight: bold;\n",
       "}\n",
       ".hoogle-class {\n",
       "font-weight: bold;\n",
       "}\n",
       ".get-type {\n",
       "color: green;\n",
       "font-weight: bold;\n",
       "font-family: monospace;\n",
       "display: block;\n",
       "white-space: pre-wrap;\n",
       "}\n",
       ".show-type {\n",
       "color: green;\n",
       "font-weight: bold;\n",
       "font-family: monospace;\n",
       "margin-left: 1em;\n",
       "}\n",
       ".mono {\n",
       "font-family: monospace;\n",
       "display: block;\n",
       "}\n",
       ".err-msg {\n",
       "color: red;\n",
       "font-style: italic;\n",
       "font-family: monospace;\n",
       "white-space: pre;\n",
       "display: block;\n",
       "}\n",
       "#unshowable {\n",
       "color: red;\n",
       "font-weight: bold;\n",
       "}\n",
       ".err-msg.in.collapse {\n",
       "padding-top: 0.7em;\n",
       "}\n",
       ".highlight-code {\n",
       "white-space: pre;\n",
       "font-family: monospace;\n",
       "}\n",
       ".suggestion-warning { \n",
       "font-weight: bold;\n",
       "color: rgb(200, 130, 0);\n",
       "}\n",
       ".suggestion-error { \n",
       "font-weight: bold;\n",
       "color: red;\n",
       "}\n",
       ".suggestion-name {\n",
       "font-weight: bold;\n",
       "}\n",
       "</style><span class='get-type'>readFile :: FilePath -> IO String</span>"
      ],
      "text/plain": [
       "readFile :: FilePath -> IO String"
      ]
     },
     "metadata": {},
     "output_type": "display_data"
    },
    {
     "data": {
      "text/plain": [
       "docker run -ihd -v \"`pwd`\":/notebooks -p 80:8888 gibiansky/ihaskell"
      ]
     },
     "metadata": {},
     "output_type": "display_data"
    },
    {
     "data": {
      "text/plain": [
       "/root/.stack/snapshots/x86_64-linux/nightly-2015-08-15/7.10.2/bin/alex\n",
       "/root/.stack/snapshots/x86_64-linux/nightly-2015-08-15/7.10.2/bin/happy"
      ]
     },
     "metadata": {},
     "output_type": "display_data"
    },
    {
     "data": {
      "text/plain": [
       "/root/.stack/snapshots/x86_64-linux/nightly-2015-08-15/7.10.2/bin/happy"
      ]
     },
     "metadata": {},
     "output_type": "display_data"
    }
   ],
   "source": [
    ":type readFile\n",
    "\n",
    "putStrLn =<< readFile \"run.sh\"\n",
    "\n",
    ":! which alex happy"
   ]
  },
  {
   "cell_type": "code",
   "execution_count": 25,
   "metadata": {
    "collapsed": false
   },
   "outputs": [
    {
     "data": {
      "text/plain": [
       "/root/.stack/snapshots/x86_64-linux/nightly-2015-08-15/7.10.2/bin/alex\n",
       "/root/.stack/snapshots/x86_64-linux/nightly-2015-08-15/7.10.2/bin/happy"
      ]
     },
     "metadata": {},
     "output_type": "display_data"
    },
    {
     "data": {
      "text/plain": [
       "total 40\n",
       "drwxr-xr-x 5 1000 1000 4096 Aug 28 09:50 .\n",
       "drwxr-xr-x 1 root root 4096 Aug 28 09:10 ..\n",
       "drwxr-xr-x 7 1000 1000 4096 Aug 28 09:37 .git\n",
       "-rw-r--r-- 1 1000 1000  219 Aug 21 01:49 .gitignore\n",
       "drwxr-xr-x 2 root root 4096 Aug 28 09:14 .ipynb_checkpoints\n",
       "-rw-r--r-- 1 1000 1000 7588 Aug 28 09:50 Imperative.ipynb\n",
       "-rw-r--r-- 1 1000 1000 3606 Aug 21 01:49 README.md\n",
       "drwxr-xr-x 6 1000 1000 4096 Aug 28 09:37 frown-0.6.2.3\n",
       "-rwxr-xr-x 1 1000 1000   68 Aug 28 01:19 run.sh"
      ]
     },
     "metadata": {},
     "output_type": "display_data"
    }
   ],
   "source": [
    "import System.Process\n",
    "\n",
    "callProcess \"which\" [\"alex\",\"happy\"]\n",
    "callProcess \"ls\" [\"-al\"]"
   ]
  }
 ],
 "metadata": {
  "kernelspec": {
   "display_name": "Haskell",
   "language": "haskell",
   "name": "haskell"
  },
  "language_info": {
   "codemirror_mode": "ihaskell",
   "file_extension": ".hs",
   "name": "haskell",
   "version": "7.10.2"
  }
 },
 "nbformat": 4,
 "nbformat_minor": 0
}
