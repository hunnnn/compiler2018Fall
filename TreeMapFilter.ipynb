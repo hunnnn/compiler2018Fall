{
 "cells": [
  {
   "cell_type": "code",
   "execution_count": 1,
   "metadata": {},
   "outputs": [
    {
     "data": {
      "text/plain": [
       "[1,2,3,4]"
      ]
     },
     "metadata": {},
     "output_type": "display_data"
    }
   ],
   "source": [
    "[1,2,3,4]"
   ]
  },
  {
   "cell_type": "code",
   "execution_count": 2,
   "metadata": {},
   "outputs": [],
   "source": [
    "data List a = Nil | Cons a (List a)  deriving Show"
   ]
  },
  {
   "cell_type": "code",
   "execution_count": 4,
   "metadata": {},
   "outputs": [
    {
     "data": {
      "text/plain": [
       "Cons 1 (Cons 2 (Cons 3 (Cons 4 Nil)))"
      ]
     },
     "metadata": {},
     "output_type": "display_data"
    }
   ],
   "source": [
    "Cons 1 (Cons 2 (Cons 3 (Cons 4 Nil)))"
   ]
  },
  {
   "cell_type": "code",
   "execution_count": 8,
   "metadata": {},
   "outputs": [
    {
     "data": {
      "text/plain": [
       "[1,2,3]"
      ]
     },
     "metadata": {},
     "output_type": "display_data"
    },
    {
     "data": {
      "text/plain": [
       "[1,2,3]"
      ]
     },
     "metadata": {},
     "output_type": "display_data"
    }
   ],
   "source": [
    "take 3 [1,2,3,4]\n",
    "\n",
    "1 : take (3-1) [2,3,4]"
   ]
  },
  {
   "cell_type": "code",
   "execution_count": 11,
   "metadata": {},
   "outputs": [],
   "source": [
    "takeList n xs | n<0 = Nil\n",
    "takeList 0 xs          = Nil\n",
    "takeList n (Cons x xs) = Cons x (takeList (n-1) xs)"
   ]
  },
  {
   "cell_type": "code",
   "execution_count": 12,
   "metadata": {},
   "outputs": [
    {
     "data": {
      "text/plain": [
       "Cons 1 (Cons 2 Nil)"
      ]
     },
     "metadata": {},
     "output_type": "display_data"
    }
   ],
   "source": [
    "takeList 2 (Cons 1 (Cons 2 (Cons 3 (Cons 4 Nil))))"
   ]
  },
  {
   "cell_type": "code",
   "execution_count": 13,
   "metadata": {},
   "outputs": [],
   "source": [
    "-- 이진트리\n",
    "data Tree2 a = Null2 | Node2 a (Tree2 a) (Tree2 a)  deriving Show"
   ]
  },
  {
   "cell_type": "code",
   "execution_count": 17,
   "metadata": {},
   "outputs": [
    {
     "data": {
      "text/plain": [
       "Node2 1 (Node2 2 (Node2 4 Null2 Null2) Null2) (Node2 3 Null2 Null2)"
      ]
     },
     "metadata": {},
     "output_type": "display_data"
    }
   ],
   "source": [
    "t2 = Node2 1\n",
    "       (Node2 2\n",
    "          (Node2 4 Null2 Null2)\n",
    "          Null2)\n",
    "       (Node2 3 Null2 Null2)\n",
    "t2       "
   ]
  },
  {
   "cell_type": "code",
   "execution_count": 30,
   "metadata": {},
   "outputs": [],
   "source": [
    "-- 높이 n까지만 제한된 트리를 \n",
    "takeTree2 n t | n<0 = Null2\n",
    "takeTree2 0 t               = Null2\n",
    "takeTree2 n (Node2 x t1 t2) = Node2 x (takeTree2 (n-1) t1) (takeTree2 (n-1) t2)"
   ]
  },
  {
   "cell_type": "code",
   "execution_count": 21,
   "metadata": {},
   "outputs": [
    {
     "data": {
      "text/plain": [
       "Node2 1 (Node2 2 Null2 Null2) (Node2 3 Null2 Null2)"
      ]
     },
     "metadata": {},
     "output_type": "display_data"
    }
   ],
   "source": [
    "takeTree2 2 t2"
   ]
  },
  {
   "cell_type": "code",
   "execution_count": 22,
   "metadata": {},
   "outputs": [],
   "source": [
    "data Tree3 a = Null3 | Node3 a (Tree3 a) (Tree3 a) (Tree3 a) deriving Show\n",
    "data Tree4 a = Null4 | Node4 a (Tree4 a) (Tree4 a) (Tree4 a) (Tree4 a) deriving Show\n"
   ]
  },
  {
   "cell_type": "code",
   "execution_count": 25,
   "metadata": {},
   "outputs": [],
   "source": [
    "-- 높이가 최소한 1이고 자녀 노드 개수는 정해져 있지 않은 (필요한 만큼 많이)\n",
    "-- data Tree a = Node a [Tree a]\n",
    "import Data.Tree"
   ]
  },
  {
   "cell_type": "code",
   "execution_count": 29,
   "metadata": {},
   "outputs": [
    {
     "data": {
      "text/plain": [
       "1\n",
       "|\n",
       "+- 23\n",
       "|\n",
       "+- 24\n",
       "|  |\n",
       "|  +- 31\n",
       "|  |\n",
       "|  +- 33\n",
       "|  |  |\n",
       "|  |  `- 44\n",
       "|  |\n",
       "|  +- 34\n",
       "|  |\n",
       "|  `- 35\n",
       "|\n",
       "`- 25\n",
       "   |\n",
       "   +- 36\n",
       "   |\n",
       "   `- 37"
      ]
     },
     "metadata": {},
     "output_type": "display_data"
    }
   ],
   "source": [
    "tt = Node 1 \n",
    "      [ Node 23 []\n",
    "      , Node 24\n",
    "          [ Node 31 []\n",
    "          , Node 33\n",
    "              [Node 44 []]\n",
    "          , Node 34 []\n",
    "          , Node 35 []\n",
    "          ]\n",
    "      , Node 25\n",
    "          [ Node 36 []\n",
    "          , Node 37 []\n",
    "          ]\n",
    "      ]\n",
    "\n",
    "putStr $ drawTree (fmap show tt)"
   ]
  },
  {
   "cell_type": "code",
   "execution_count": 31,
   "metadata": {},
   "outputs": [],
   "source": [
    "takeTree n t | n<=0 = error \"Tree 높이가 1 이상이어야 한다\"\n",
    "takeTree 1 (Node x ts) = Node x []\n",
    "takeTree n (Node x ts) = Node x [ takeTree (n-1) t | t<-ts ]"
   ]
  },
  {
   "cell_type": "code",
   "execution_count": 33,
   "metadata": {},
   "outputs": [
    {
     "data": {
      "text/plain": [
       "1"
      ]
     },
     "metadata": {},
     "output_type": "display_data"
    }
   ],
   "source": [
    "putStr $ drawTree (fmap show (takeTree 1 tt))"
   ]
  },
  {
   "cell_type": "code",
   "execution_count": 34,
   "metadata": {},
   "outputs": [
    {
     "data": {
      "text/plain": [
       "1\n",
       "|\n",
       "+- 23\n",
       "|\n",
       "+- 24\n",
       "|\n",
       "`- 25"
      ]
     },
     "metadata": {},
     "output_type": "display_data"
    }
   ],
   "source": [
    "putStr $ drawTree (fmap show (takeTree 2 tt))"
   ]
  },
  {
   "cell_type": "code",
   "execution_count": 35,
   "metadata": {},
   "outputs": [
    {
     "data": {
      "text/plain": [
       "1\n",
       "|\n",
       "+- 23\n",
       "|\n",
       "+- 24\n",
       "|  |\n",
       "|  +- 31\n",
       "|  |\n",
       "|  +- 33\n",
       "|  |\n",
       "|  +- 34\n",
       "|  |\n",
       "|  `- 35\n",
       "|\n",
       "`- 25\n",
       "   |\n",
       "   +- 36\n",
       "   |\n",
       "   `- 37"
      ]
     },
     "metadata": {},
     "output_type": "display_data"
    }
   ],
   "source": [
    "putStr $ drawTree (fmap show (takeTree 3 tt))"
   ]
  },
  {
   "cell_type": "code",
   "execution_count": 36,
   "metadata": {},
   "outputs": [
    {
     "data": {
      "text/plain": [
       "1\n",
       "|\n",
       "+- 23\n",
       "|\n",
       "+- 24\n",
       "|  |\n",
       "|  +- 31\n",
       "|  |\n",
       "|  +- 33\n",
       "|  |  |\n",
       "|  |  `- 44\n",
       "|  |\n",
       "|  +- 34\n",
       "|  |\n",
       "|  `- 35\n",
       "|\n",
       "`- 25\n",
       "   |\n",
       "   +- 36\n",
       "   |\n",
       "   `- 37"
      ]
     },
     "metadata": {},
     "output_type": "display_data"
    }
   ],
   "source": [
    "putStr $ drawTree (fmap show (takeTree 4 tt))"
   ]
  },
  {
   "cell_type": "code",
   "execution_count": 37,
   "metadata": {},
   "outputs": [
    {
     "data": {
      "text/plain": [
       "1\n",
       "|\n",
       "+- 23\n",
       "|\n",
       "+- 24\n",
       "|  |\n",
       "|  +- 31\n",
       "|  |\n",
       "|  +- 33\n",
       "|  |  |\n",
       "|  |  `- 44\n",
       "|  |\n",
       "|  +- 34\n",
       "|  |\n",
       "|  `- 35\n",
       "|\n",
       "`- 25\n",
       "   |\n",
       "   +- 36\n",
       "   |\n",
       "   `- 37"
      ]
     },
     "metadata": {},
     "output_type": "display_data"
    }
   ],
   "source": [
    "putStr $ drawTree (fmap show (takeTree 5 tt))"
   ]
  },
  {
   "cell_type": "markdown",
   "metadata": {},
   "source": [
    "# 리스트 조건제시법과 고차함수(map, filter)"
   ]
  },
  {
   "cell_type": "code",
   "execution_count": 39,
   "metadata": {},
   "outputs": [
    {
     "data": {
      "text/html": [
       "<style>/* Styles used for the Hoogle display in the pager */\n",
       ".hoogle-doc {\n",
       "display: block;\n",
       "padding-bottom: 1.3em;\n",
       "padding-left: 0.4em;\n",
       "}\n",
       ".hoogle-code {\n",
       "display: block;\n",
       "font-family: monospace;\n",
       "white-space: pre;\n",
       "}\n",
       ".hoogle-text {\n",
       "display: block;\n",
       "}\n",
       ".hoogle-name {\n",
       "color: green;\n",
       "font-weight: bold;\n",
       "}\n",
       ".hoogle-head {\n",
       "font-weight: bold;\n",
       "}\n",
       ".hoogle-sub {\n",
       "display: block;\n",
       "margin-left: 0.4em;\n",
       "}\n",
       ".hoogle-package {\n",
       "font-weight: bold;\n",
       "font-style: italic;\n",
       "}\n",
       ".hoogle-module {\n",
       "font-weight: bold;\n",
       "}\n",
       ".hoogle-class {\n",
       "font-weight: bold;\n",
       "}\n",
       ".get-type {\n",
       "color: green;\n",
       "font-weight: bold;\n",
       "font-family: monospace;\n",
       "display: block;\n",
       "white-space: pre-wrap;\n",
       "}\n",
       ".show-type {\n",
       "color: green;\n",
       "font-weight: bold;\n",
       "font-family: monospace;\n",
       "margin-left: 1em;\n",
       "}\n",
       ".mono {\n",
       "font-family: monospace;\n",
       "display: block;\n",
       "}\n",
       ".err-msg {\n",
       "color: red;\n",
       "font-style: italic;\n",
       "font-family: monospace;\n",
       "white-space: pre;\n",
       "display: block;\n",
       "}\n",
       "#unshowable {\n",
       "color: red;\n",
       "font-weight: bold;\n",
       "}\n",
       ".err-msg.in.collapse {\n",
       "padding-top: 0.7em;\n",
       "}\n",
       ".highlight-code {\n",
       "white-space: pre;\n",
       "font-family: monospace;\n",
       "}\n",
       ".suggestion-warning { \n",
       "font-weight: bold;\n",
       "color: rgb(200, 130, 0);\n",
       "}\n",
       ".suggestion-error { \n",
       "font-weight: bold;\n",
       "color: red;\n",
       "}\n",
       ".suggestion-name {\n",
       "font-weight: bold;\n",
       "}\n",
       "</style><div class=\"suggestion-name\" style=\"clear:both;\">Avoid lambda</div><div class=\"suggestion-row\" style=\"float: left;\"><div class=\"suggestion-warning\">Found:</div><div class=\"highlight-code\" id=\"haskell\">\\ x -> x + 3</div></div><div class=\"suggestion-row\" style=\"float: left;\"><div class=\"suggestion-warning\">Why Not:</div><div class=\"highlight-code\" id=\"haskell\">(+ 3)</div></div>"
      ],
      "text/plain": [
       "Line 1: Avoid lambda\n",
       "Found:\n",
       "\\ x -> x + 3\n",
       "Why not:\n",
       "(+ 3)"
      ]
     },
     "metadata": {},
     "output_type": "display_data"
    },
    {
     "data": {
      "text/plain": [
       "[4,5,6,7,8]"
      ]
     },
     "metadata": {},
     "output_type": "display_data"
    }
   ],
   "source": [
    "map (\\x -> x+3) [1,2,3,4,5]"
   ]
  },
  {
   "cell_type": "code",
   "execution_count": 40,
   "metadata": {},
   "outputs": [
    {
     "data": {
      "text/plain": [
       "[4,5,6,7,8]"
      ]
     },
     "metadata": {},
     "output_type": "display_data"
    }
   ],
   "source": [
    "map (+3) [1,2,3,4,5]"
   ]
  },
  {
   "cell_type": "code",
   "execution_count": 43,
   "metadata": {},
   "outputs": [
    {
     "data": {
      "text/html": [
       "<style>/* Styles used for the Hoogle display in the pager */\n",
       ".hoogle-doc {\n",
       "display: block;\n",
       "padding-bottom: 1.3em;\n",
       "padding-left: 0.4em;\n",
       "}\n",
       ".hoogle-code {\n",
       "display: block;\n",
       "font-family: monospace;\n",
       "white-space: pre;\n",
       "}\n",
       ".hoogle-text {\n",
       "display: block;\n",
       "}\n",
       ".hoogle-name {\n",
       "color: green;\n",
       "font-weight: bold;\n",
       "}\n",
       ".hoogle-head {\n",
       "font-weight: bold;\n",
       "}\n",
       ".hoogle-sub {\n",
       "display: block;\n",
       "margin-left: 0.4em;\n",
       "}\n",
       ".hoogle-package {\n",
       "font-weight: bold;\n",
       "font-style: italic;\n",
       "}\n",
       ".hoogle-module {\n",
       "font-weight: bold;\n",
       "}\n",
       ".hoogle-class {\n",
       "font-weight: bold;\n",
       "}\n",
       ".get-type {\n",
       "color: green;\n",
       "font-weight: bold;\n",
       "font-family: monospace;\n",
       "display: block;\n",
       "white-space: pre-wrap;\n",
       "}\n",
       ".show-type {\n",
       "color: green;\n",
       "font-weight: bold;\n",
       "font-family: monospace;\n",
       "margin-left: 1em;\n",
       "}\n",
       ".mono {\n",
       "font-family: monospace;\n",
       "display: block;\n",
       "}\n",
       ".err-msg {\n",
       "color: red;\n",
       "font-style: italic;\n",
       "font-family: monospace;\n",
       "white-space: pre;\n",
       "display: block;\n",
       "}\n",
       "#unshowable {\n",
       "color: red;\n",
       "font-weight: bold;\n",
       "}\n",
       ".err-msg.in.collapse {\n",
       "padding-top: 0.7em;\n",
       "}\n",
       ".highlight-code {\n",
       "white-space: pre;\n",
       "font-family: monospace;\n",
       "}\n",
       ".suggestion-warning { \n",
       "font-weight: bold;\n",
       "color: rgb(200, 130, 0);\n",
       "}\n",
       ".suggestion-error { \n",
       "font-weight: bold;\n",
       "color: red;\n",
       "}\n",
       ".suggestion-name {\n",
       "font-weight: bold;\n",
       "}\n",
       "</style><div class=\"suggestion-name\" style=\"clear:both;\">Use map</div><div class=\"suggestion-row\" style=\"float: left;\"><div class=\"suggestion-warning\">Found:</div><div class=\"highlight-code\" id=\"haskell\">map' f [] = []\n",
       "map' f (x : xs) = f x : map' f xs</div></div><div class=\"suggestion-row\" style=\"float: left;\"><div class=\"suggestion-warning\">Why Not:</div><div class=\"highlight-code\" id=\"haskell\">map' f xs = map f xs</div></div>"
      ],
      "text/plain": [
       "Line 1: Use map\n",
       "Found:\n",
       "map' f [] = []\n",
       "map' f (x : xs) = f x : map' f xs\n",
       "Why not:\n",
       "map' f xs = map f xs"
      ]
     },
     "metadata": {},
     "output_type": "display_data"
    }
   ],
   "source": [
    "-- 표준라이브러리 map과 같은 일을 하는 map' 을 재귀함수로 작성\n",
    "map' f []     = []\n",
    "map' f (x:xs) = f x : map' f xs"
   ]
  },
  {
   "cell_type": "code",
   "execution_count": 44,
   "metadata": {},
   "outputs": [
    {
     "data": {
      "text/plain": [
       "[4,5,6,7,8]"
      ]
     },
     "metadata": {},
     "output_type": "display_data"
    }
   ],
   "source": [
    "map' (+3) [1,2,3,4,5]"
   ]
  },
  {
   "cell_type": "code",
   "execution_count": 45,
   "metadata": {},
   "outputs": [],
   "source": [
    "-- 표준라이브러리 map과 같은 일을 하는 map'' 을 조건제시법 작성\n",
    "map'' f xs = [f x | x<-xs]"
   ]
  },
  {
   "cell_type": "code",
   "execution_count": 46,
   "metadata": {},
   "outputs": [
    {
     "data": {
      "text/plain": [
       "[4,5,6,7,8]"
      ]
     },
     "metadata": {},
     "output_type": "display_data"
    }
   ],
   "source": [
    "map'' (+3) [1,2,3,4,5]"
   ]
  },
  {
   "cell_type": "code",
   "execution_count": 47,
   "metadata": {},
   "outputs": [
    {
     "data": {
      "text/plain": [
       "[4,6,8]"
      ]
     },
     "metadata": {},
     "output_type": "display_data"
    }
   ],
   "source": [
    "-- [4,5,6,7,8] 중에서 짝수인 것만 고르자\n",
    "ll = [4,5,6,7,8]\n",
    "\n",
    "[x | x<-ll, x`mod`2==0]"
   ]
  },
  {
   "cell_type": "code",
   "execution_count": 48,
   "metadata": {},
   "outputs": [
    {
     "data": {
      "text/plain": [
       "[4,6,8]"
      ]
     },
     "metadata": {},
     "output_type": "display_data"
    }
   ],
   "source": [
    "filter (\\x -> x`mod`2==0) [4,5,6,7,8]"
   ]
  },
  {
   "cell_type": "code",
   "execution_count": 53,
   "metadata": {},
   "outputs": [
    {
     "data": {
      "text/plain": [
       "[5,7]"
      ]
     },
     "metadata": {},
     "output_type": "display_data"
    }
   ],
   "source": [
    "map (+3) (filter (\\x -> x`mod`2==0) [1,2,3,4,5])"
   ]
  },
  {
   "cell_type": "code",
   "execution_count": 54,
   "metadata": {},
   "outputs": [
    {
     "data": {
      "text/plain": [
       "[5,7]"
      ]
     },
     "metadata": {},
     "output_type": "display_data"
    }
   ],
   "source": [
    "[x+3 | x <-[1,2,3,4,5], x`mod`2==0]"
   ]
  },
  {
   "cell_type": "code",
   "execution_count": 55,
   "metadata": {},
   "outputs": [
    {
     "data": {
      "text/plain": [
       "[4,6,8]"
      ]
     },
     "metadata": {},
     "output_type": "display_data"
    }
   ],
   "source": [
    "filter (\\x -> x`mod`2==0) (map (+3) [1,2,3,4,5])"
   ]
  },
  {
   "cell_type": "code",
   "execution_count": 56,
   "metadata": {},
   "outputs": [
    {
     "data": {
      "text/plain": [
       "[4,6,8]"
      ]
     },
     "metadata": {},
     "output_type": "display_data"
    }
   ],
   "source": [
    "[x+3 | x <-[1,2,3,4,5], (x+3)`mod`2==0]"
   ]
  }
 ],
 "metadata": {
  "kernelspec": {
   "display_name": "Haskell",
   "language": "haskell",
   "name": "haskell"
  },
  "language_info": {
   "codemirror_mode": "ihaskell",
   "file_extension": ".hs",
   "name": "haskell",
   "pygments_lexer": "Haskell",
   "version": "8.2.2"
  }
 },
 "nbformat": 4,
 "nbformat_minor": 2
}
